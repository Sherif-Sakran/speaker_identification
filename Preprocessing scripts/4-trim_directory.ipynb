{
 "cells": [
  {
   "cell_type": "code",
   "execution_count": 9,
   "metadata": {},
   "outputs": [],
   "source": [
    "import glob\n",
    "from scipy.io import wavfile\n",
    "import os"
   ]
  },
  {
   "cell_type": "code",
   "execution_count": 10,
   "metadata": {},
   "outputs": [
    {
     "data": {
      "text/plain": [
       "['../Datasets\\\\Environment 2\\\\Abdelrahman\\\\A_ 10.wav',\n",
       " '../Datasets\\\\Environment 2\\\\Abdelrahman\\\\A_ 2.wav',\n",
       " '../Datasets\\\\Environment 2\\\\Abdelrahman\\\\A_ 4.wav',\n",
       " '../Datasets\\\\Environment 2\\\\Abdelrahman\\\\A_ 5.wav',\n",
       " '../Datasets\\\\Environment 2\\\\Abdelrahman\\\\A_ 7.wav',\n",
       " '../Datasets\\\\Environment 2\\\\Abdelrahman\\\\A_ 8.wav',\n",
       " '../Datasets\\\\Environment 2\\\\Abdelrahman\\\\A_ 9.wav',\n",
       " '../Datasets\\\\Environment 2\\\\Abdelrahman\\\\A_1.wav',\n",
       " '../Datasets\\\\Environment 2\\\\Omar\\\\O_1.wav',\n",
       " '../Datasets\\\\Environment 2\\\\Omar\\\\O_10.wav',\n",
       " '../Datasets\\\\Environment 2\\\\Omar\\\\O_2.wav',\n",
       " '../Datasets\\\\Environment 2\\\\Omar\\\\O_3.wav',\n",
       " '../Datasets\\\\Environment 2\\\\Omar\\\\O_4.wav',\n",
       " '../Datasets\\\\Environment 2\\\\Omar\\\\O_5.wav',\n",
       " '../Datasets\\\\Environment 2\\\\Omar\\\\O_6.wav',\n",
       " '../Datasets\\\\Environment 2\\\\Omar\\\\O_7.wav',\n",
       " '../Datasets\\\\Environment 2\\\\Omar\\\\O_8.wav',\n",
       " '../Datasets\\\\Environment 2\\\\Omar\\\\O_9.wav',\n",
       " '../Datasets\\\\Environment 2\\\\Reem\\\\1.wav',\n",
       " '../Datasets\\\\Environment 2\\\\Reem\\\\10.wav',\n",
       " '../Datasets\\\\Environment 2\\\\Reem\\\\2.wav',\n",
       " '../Datasets\\\\Environment 2\\\\Reem\\\\3.wav',\n",
       " '../Datasets\\\\Environment 2\\\\Reem\\\\4.wav',\n",
       " '../Datasets\\\\Environment 2\\\\Reem\\\\5.wav',\n",
       " '../Datasets\\\\Environment 2\\\\Reem\\\\6.wav',\n",
       " '../Datasets\\\\Environment 2\\\\Reem\\\\7.wav',\n",
       " '../Datasets\\\\Environment 2\\\\Reem\\\\8.wav',\n",
       " '../Datasets\\\\Environment 2\\\\Reem\\\\9.wav',\n",
       " '../Datasets\\\\Environment 2\\\\Renad\\\\Renad_27.wav',\n",
       " '../Datasets\\\\Environment 2\\\\Renad\\\\Renad_28.wav',\n",
       " '../Datasets\\\\Environment 2\\\\Renad\\\\Renad_29.wav',\n",
       " '../Datasets\\\\Environment 2\\\\Renad\\\\Renad_30.wav',\n",
       " '../Datasets\\\\Environment 2\\\\Renad\\\\Renad_31.wav',\n",
       " '../Datasets\\\\Environment 2\\\\Renad\\\\Renad_32.wav',\n",
       " '../Datasets\\\\Environment 2\\\\Renad\\\\Renad_33.wav',\n",
       " '../Datasets\\\\Environment 2\\\\Renad\\\\Renad_34.wav',\n",
       " '../Datasets\\\\Environment 2\\\\Renad\\\\Renad_35.wav',\n",
       " '../Datasets\\\\Environment 2\\\\Renad\\\\Renad_36.wav',\n",
       " '../Datasets\\\\Environment 2\\\\Sherif\\\\S_1.wav',\n",
       " '../Datasets\\\\Environment 2\\\\Sherif\\\\S_10.wav',\n",
       " '../Datasets\\\\Environment 2\\\\Sherif\\\\S_2.wav',\n",
       " '../Datasets\\\\Environment 2\\\\Sherif\\\\S_3.wav',\n",
       " '../Datasets\\\\Environment 2\\\\Sherif\\\\S_4.wav',\n",
       " '../Datasets\\\\Environment 2\\\\Sherif\\\\S_5.wav',\n",
       " '../Datasets\\\\Environment 2\\\\Sherif\\\\S_6.wav',\n",
       " '../Datasets\\\\Environment 2\\\\Sherif\\\\S_7.wav',\n",
       " '../Datasets\\\\Environment 2\\\\Sherif\\\\S_8.wav',\n",
       " '../Datasets\\\\Environment 2\\\\Sherif\\\\S_9.wav',\n",
       " '../Datasets\\\\Environment 2\\\\Youssef\\\\Y_1.wav',\n",
       " '../Datasets\\\\Environment 2\\\\Youssef\\\\Y_10.wav',\n",
       " '../Datasets\\\\Environment 2\\\\Youssef\\\\Y_2.wav',\n",
       " '../Datasets\\\\Environment 2\\\\Youssef\\\\Y_3.wav',\n",
       " '../Datasets\\\\Environment 2\\\\Youssef\\\\Y_4.wav',\n",
       " '../Datasets\\\\Environment 2\\\\Youssef\\\\Y_5.wav',\n",
       " '../Datasets\\\\Environment 2\\\\Youssef\\\\Y_6.wav',\n",
       " '../Datasets\\\\Environment 2\\\\Youssef\\\\Y_7.wav',\n",
       " '../Datasets\\\\Environment 2\\\\Youssef\\\\Y_8.wav',\n",
       " '../Datasets\\\\Environment 2\\\\Youssef\\\\Y_9.wav']"
      ]
     },
     "execution_count": 10,
     "metadata": {},
     "output_type": "execute_result"
    }
   ],
   "source": [
    "src_directory_path = \"../Datasets\\Environment 2\"\n",
    "file_names = glob.glob(os.path.join(src_directory_path, \"**/*.wav\"), recursive=True)\n",
    "file_names"
   ]
  },
  {
   "cell_type": "code",
   "execution_count": 11,
   "metadata": {},
   "outputs": [],
   "source": [
    "def trim_wav(input_file, segment_name, offset=0):\n",
    "    sample_rate, audio_data = wavfile.read(input_file)\n",
    "    segment_duration = 3 * sample_rate\n",
    "    num_segments = len(audio_data) // segment_duration\n",
    "    # if not os.path.exists(output_folder):\n",
    "    #     os.makedirs(output_folder)\n",
    "\n",
    "    for i in range(num_segments):\n",
    "        start_sample = i * segment_duration\n",
    "        end_sample = (i + 1) * segment_duration\n",
    "        segment = audio_data[start_sample:end_sample]\n",
    "        # output_file = os.path.join(output_folder, f\"{segment_name}_{i+1+offset}.wav\")\n",
    "        output_file = input_file\n",
    "        wavfile.write(output_file, sample_rate, segment)"
   ]
  },
  {
   "cell_type": "code",
   "execution_count": 12,
   "metadata": {},
   "outputs": [],
   "source": [
    "offset = 0 # counter starts at 1 + offset (for assembling a person's class from different recordings)\n",
    "for file_name in (file_names):\n",
    "    segment_name = file_name.split('.')[0].split('_')[0]\n",
    "    trim_wav(file_name, segment_name, offset)"
   ]
  },
  {
   "cell_type": "code",
   "execution_count": null,
   "metadata": {},
   "outputs": [],
   "source": []
  }
 ],
 "metadata": {
  "kernelspec": {
   "display_name": "Python 3",
   "language": "python",
   "name": "python3"
  },
  "language_info": {
   "codemirror_mode": {
    "name": "ipython",
    "version": 3
   },
   "file_extension": ".py",
   "mimetype": "text/x-python",
   "name": "python",
   "nbconvert_exporter": "python",
   "pygments_lexer": "ipython3",
   "version": "3.11.9"
  }
 },
 "nbformat": 4,
 "nbformat_minor": 2
}
