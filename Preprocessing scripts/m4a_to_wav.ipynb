{
 "cells": [
  {
   "cell_type": "code",
   "execution_count": 3,
   "metadata": {},
   "outputs": [
    {
     "data": {
      "text/plain": [
       "<_io.BufferedRandom name='output.wav'>"
      ]
     },
     "execution_count": 3,
     "metadata": {},
     "output_type": "execute_result"
    }
   ],
   "source": [
    "from pydub import AudioSegment\n",
    "\n",
    "# Load the audio file\n",
    "file_name = \"test_si.m4a\"\n",
    "audio_file = AudioSegment.from_file(file_name, format=file_name.split(\".\")[-1])\n",
    "\n",
    "audio_file = audio_file.normalize()\n",
    "# Change the sampling rate to 1\n",
    "audio_file = audio_file.set_frame_rate(16000)\n",
    "\n",
    "# Combine all channels to one channel\n",
    "audio_file = audio_file.set_channels(1)\n",
    "# Export the audio file as WAV\n",
    "audio_file.export(\"output.wav\", format=\"wav\")\n"
   ]
  }
 ],
 "metadata": {
  "kernelspec": {
   "display_name": "Python 3",
   "language": "python",
   "name": "python3"
  },
  "language_info": {
   "codemirror_mode": {
    "name": "ipython",
    "version": 3
   },
   "file_extension": ".py",
   "mimetype": "text/x-python",
   "name": "python",
   "nbconvert_exporter": "python",
   "pygments_lexer": "ipython3",
   "version": "3.10.12"
  }
 },
 "nbformat": 4,
 "nbformat_minor": 2
}
