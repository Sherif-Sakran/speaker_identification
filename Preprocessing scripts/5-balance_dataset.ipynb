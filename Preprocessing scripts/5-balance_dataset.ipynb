{
 "cells": [
  {
   "cell_type": "code",
   "execution_count": 10,
   "metadata": {},
   "outputs": [
    {
     "name": "stdout",
     "output_type": "stream",
     "text": [
      "['A_2', 'O_2', 'Reem_2', 'Renad_2', 'S_2', 'Y_2']\n"
     ]
    }
   ],
   "source": [
    "import os\n",
    "# Run this on training and testing in Environment 1\n",
    "dataset = \"Testing\"\n",
    "directory = f\"D:\\Courses\\\\14- Winter 24\\paper draft\\Code\\speaker_identification\\Datasets\\Environment 1\\{dataset}\"\n",
    "directories = [name for name in os.listdir(directory) if os.path.isdir(os.path.join(directory, name))]\n",
    "\n",
    "print(directories)\n"
   ]
  },
  {
   "cell_type": "code",
   "execution_count": 11,
   "metadata": {},
   "outputs": [
    {
     "name": "stdout",
     "output_type": "stream",
     "text": [
      "19\n",
      "O_2\n"
     ]
    }
   ],
   "source": [
    "min = 999\n",
    "min_dir = \"\"\n",
    "for dir in directories:\n",
    "    path = os.path.join(directory, dir)\n",
    "\n",
    "    files = [name for name in os.listdir(path) if os.path.isfile(os.path.join(path, name))]\n",
    "    min_dir = dir if len(files) < min else min_dir\n",
    "    min = len(files) if len(files) < min else min\n",
    "    # print(files)\n",
    "print(min)\n",
    "print(min_dir)\n"
   ]
  },
  {
   "cell_type": "code",
   "execution_count": 12,
   "metadata": {},
   "outputs": [],
   "source": [
    "import os\n",
    "\n",
    "min = 30 if 30 < min else min\n",
    "\n",
    "for dir in directories:\n",
    "    # Get the list of files in the directory\n",
    "    files = os.listdir(os.path.join(directory, dir))\n",
    "    files = sorted(files)\n",
    "    # Select the first n files\n",
    "    files_to_keep = files[:min]\n",
    "\n",
    "    # Delete the rest of the files\n",
    "    for file in files[min:]:\n",
    "        file_path = os.path.join(os.path.join(directory, dir), file)\n",
    "        os.remove(file_path)\n"
   ]
  },
  {
   "cell_type": "code",
   "execution_count": null,
   "metadata": {},
   "outputs": [],
   "source": []
  }
 ],
 "metadata": {
  "kernelspec": {
   "display_name": "Python 3",
   "language": "python",
   "name": "python3"
  },
  "language_info": {
   "codemirror_mode": {
    "name": "ipython",
    "version": 3
   },
   "file_extension": ".py",
   "mimetype": "text/x-python",
   "name": "python",
   "nbconvert_exporter": "python",
   "pygments_lexer": "ipython3",
   "version": "3.11.9"
  }
 },
 "nbformat": 4,
 "nbformat_minor": 2
}
