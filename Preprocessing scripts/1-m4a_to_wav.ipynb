{
 "cells": [
  {
   "cell_type": "code",
   "execution_count": 8,
   "metadata": {},
   "outputs": [
    {
     "name": "stdout",
     "output_type": "stream",
     "text": [
      "../Datasets\n",
      "['../Datasets\\\\Environment 1\\\\Testing\\\\Abdelrahman.m4a', '../Datasets\\\\Environment 1\\\\Testing\\\\Omar.m4a', '../Datasets\\\\Environment 1\\\\Testing\\\\Reem.m4a', '../Datasets\\\\Environment 1\\\\Testing\\\\Renad.m4a', '../Datasets\\\\Environment 1\\\\Testing\\\\Sherif.m4a', '../Datasets\\\\Environment 1\\\\Testing\\\\Youssef.m4a', '../Datasets\\\\Environment 1\\\\Training\\\\Abdelrahman.m4a', '../Datasets\\\\Environment 1\\\\Training\\\\Omar.m4a', '../Datasets\\\\Environment 1\\\\Training\\\\Reem.m4a', '../Datasets\\\\Environment 1\\\\Training\\\\Renad.m4a', '../Datasets\\\\Environment 1\\\\Training\\\\Sherif.m4a', '../Datasets\\\\Environment 1\\\\Training\\\\Youssef.m4a', '../Datasets\\\\Environment 2\\\\Abdelrahman\\\\A_ 10.m4a', '../Datasets\\\\Environment 2\\\\Abdelrahman\\\\A_ 2.m4a', '../Datasets\\\\Environment 2\\\\Abdelrahman\\\\A_ 4.m4a', '../Datasets\\\\Environment 2\\\\Abdelrahman\\\\A_ 5.m4a', '../Datasets\\\\Environment 2\\\\Abdelrahman\\\\A_ 7.m4a', '../Datasets\\\\Environment 2\\\\Abdelrahman\\\\A_ 8.m4a', '../Datasets\\\\Environment 2\\\\Abdelrahman\\\\A_ 9.m4a', '../Datasets\\\\Environment 2\\\\Abdelrahman\\\\A_1.m4a', '../Datasets\\\\Environment 2\\\\Omar\\\\O_1.m4a', '../Datasets\\\\Environment 2\\\\Omar\\\\O_10.m4a', '../Datasets\\\\Environment 2\\\\Omar\\\\O_2.m4a', '../Datasets\\\\Environment 2\\\\Omar\\\\O_3.m4a', '../Datasets\\\\Environment 2\\\\Omar\\\\O_4.m4a', '../Datasets\\\\Environment 2\\\\Omar\\\\O_5.m4a', '../Datasets\\\\Environment 2\\\\Omar\\\\O_6.m4a', '../Datasets\\\\Environment 2\\\\Omar\\\\O_7.m4a', '../Datasets\\\\Environment 2\\\\Omar\\\\O_8.m4a', '../Datasets\\\\Environment 2\\\\Omar\\\\O_9.m4a', '../Datasets\\\\Environment 2\\\\Reem\\\\1.m4a', '../Datasets\\\\Environment 2\\\\Reem\\\\10.m4a', '../Datasets\\\\Environment 2\\\\Reem\\\\2.m4a', '../Datasets\\\\Environment 2\\\\Reem\\\\3.m4a', '../Datasets\\\\Environment 2\\\\Reem\\\\4.m4a', '../Datasets\\\\Environment 2\\\\Reem\\\\5.m4a', '../Datasets\\\\Environment 2\\\\Reem\\\\6.m4a', '../Datasets\\\\Environment 2\\\\Reem\\\\7.m4a', '../Datasets\\\\Environment 2\\\\Reem\\\\8.m4a', '../Datasets\\\\Environment 2\\\\Reem\\\\9.m4a', '../Datasets\\\\Environment 2\\\\Renad\\\\Renad_27.m4a', '../Datasets\\\\Environment 2\\\\Renad\\\\Renad_28.m4a', '../Datasets\\\\Environment 2\\\\Renad\\\\Renad_29.m4a', '../Datasets\\\\Environment 2\\\\Renad\\\\Renad_30.m4a', '../Datasets\\\\Environment 2\\\\Renad\\\\Renad_31.m4a', '../Datasets\\\\Environment 2\\\\Renad\\\\Renad_32.m4a', '../Datasets\\\\Environment 2\\\\Renad\\\\Renad_33.m4a', '../Datasets\\\\Environment 2\\\\Renad\\\\Renad_34.m4a', '../Datasets\\\\Environment 2\\\\Renad\\\\Renad_35.m4a', '../Datasets\\\\Environment 2\\\\Renad\\\\Renad_36.m4a', '../Datasets\\\\Environment 2\\\\Sherif\\\\S_1.m4a', '../Datasets\\\\Environment 2\\\\Sherif\\\\S_10.m4a', '../Datasets\\\\Environment 2\\\\Sherif\\\\S_2.m4a', '../Datasets\\\\Environment 2\\\\Sherif\\\\S_3.m4a', '../Datasets\\\\Environment 2\\\\Sherif\\\\S_4.m4a', '../Datasets\\\\Environment 2\\\\Sherif\\\\S_5.m4a', '../Datasets\\\\Environment 2\\\\Sherif\\\\S_6.m4a', '../Datasets\\\\Environment 2\\\\Sherif\\\\S_7.m4a', '../Datasets\\\\Environment 2\\\\Sherif\\\\S_8.m4a', '../Datasets\\\\Environment 2\\\\Sherif\\\\S_9.m4a', '../Datasets\\\\Environment 2\\\\Youssef\\\\Y_1.m4a', '../Datasets\\\\Environment 2\\\\Youssef\\\\Y_10.m4a', '../Datasets\\\\Environment 2\\\\Youssef\\\\Y_2.m4a', '../Datasets\\\\Environment 2\\\\Youssef\\\\Y_3.m4a', '../Datasets\\\\Environment 2\\\\Youssef\\\\Y_4.m4a', '../Datasets\\\\Environment 2\\\\Youssef\\\\Y_5.m4a', '../Datasets\\\\Environment 2\\\\Youssef\\\\Y_6.m4a', '../Datasets\\\\Environment 2\\\\Youssef\\\\Y_7.m4a', '../Datasets\\\\Environment 2\\\\Youssef\\\\Y_8.m4a', '../Datasets\\\\Environment 2\\\\Youssef\\\\Y_9.m4a']\n"
     ]
    }
   ],
   "source": [
    "import os\n",
    "from pydub import AudioSegment\n",
    "import glob\n",
    "import shutil\n",
    "\n",
    "\n",
    "# Specify the directory path\n",
    "directory = \"../Datasets\"\n",
    "\n",
    "src_directory = \"../Datasets_original\"\n",
    "\n",
    "# Replicate directory\n",
    "shutil.copytree(src_directory, directory)\n",
    "\n",
    "\n",
    "print(directory)\n",
    "# Get all m4a files in the directory and its subdirectories\n",
    "m4a_files = glob.glob(os.path.join(directory, \"**/*.m4a\"), recursive=True)\n",
    "print(m4a_files)\n",
    "# Iterate over the m4a files\n",
    "for file_name in m4a_files:\n",
    "    # Load the m4a file\n",
    "    audio_file = AudioSegment.from_file(file_name, format=\"m4a\")\n",
    "\n",
    "    \n",
    "    # Change the sampling rate to 16000\n",
    "    audio_file = audio_file.set_frame_rate(16000)\n",
    "    \n",
    "    # Combine all channels to one channel\n",
    "    audio_file = audio_file.set_channels(1)\n",
    "\n",
    "    # Save the audio file as a wav file\n",
    "    wav_file_name = file_name.replace(\".m4a\", \".wav\")\n",
    "    audio_file.export(wav_file_name, format=\"wav\")\n",
    "    \n",
    "    # Remove the m4a file\n",
    "    os.remove(file_name)"
   ]
  },
  {
   "cell_type": "code",
   "execution_count": null,
   "metadata": {},
   "outputs": [],
   "source": []
  }
 ],
 "metadata": {
  "kernelspec": {
   "display_name": "Python 3",
   "language": "python",
   "name": "python3"
  },
  "language_info": {
   "codemirror_mode": {
    "name": "ipython",
    "version": 3
   },
   "file_extension": ".py",
   "mimetype": "text/x-python",
   "name": "python",
   "nbconvert_exporter": "python",
   "pygments_lexer": "ipython3",
   "version": "3.11.9"
  }
 },
 "nbformat": 4,
 "nbformat_minor": 2
}
