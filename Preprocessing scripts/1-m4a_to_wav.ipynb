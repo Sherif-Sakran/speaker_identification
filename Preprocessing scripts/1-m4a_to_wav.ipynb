{
 "cells": [
  {
   "cell_type": "code",
   "execution_count": 15,
   "metadata": {},
   "outputs": [
    {
     "name": "stdout",
     "output_type": "stream",
     "text": [
      "D:\\Courses\\14- Winter 24\\paper draft\\Code\\speaker_identification\\Datasets\\Environment 1\\Training\n",
      "['D:\\\\Courses\\\\14- Winter 24\\\\paper draft\\\\Code\\\\speaker_identification\\\\Datasets\\\\Environment 1\\\\Training\\\\A_1.m4a', 'D:\\\\Courses\\\\14- Winter 24\\\\paper draft\\\\Code\\\\speaker_identification\\\\Datasets\\\\Environment 1\\\\Training\\\\O_1.m4a', 'D:\\\\Courses\\\\14- Winter 24\\\\paper draft\\\\Code\\\\speaker_identification\\\\Datasets\\\\Environment 1\\\\Training\\\\Reem_1.m4a', 'D:\\\\Courses\\\\14- Winter 24\\\\paper draft\\\\Code\\\\speaker_identification\\\\Datasets\\\\Environment 1\\\\Training\\\\Renad_1.m4a', 'D:\\\\Courses\\\\14- Winter 24\\\\paper draft\\\\Code\\\\speaker_identification\\\\Datasets\\\\Environment 1\\\\Training\\\\S_1.m4a', 'D:\\\\Courses\\\\14- Winter 24\\\\paper draft\\\\Code\\\\speaker_identification\\\\Datasets\\\\Environment 1\\\\Training\\\\Y_1.m4a']\n"
     ]
    }
   ],
   "source": [
    "import os\n",
    "from pydub import AudioSegment\n",
    "import glob\n",
    "\n",
    "# Specify the directory path\n",
    "directory = \"D:\\Courses\\\\14- Winter 24\\paper draft\\Code\\speaker_identification\\Datasets\\Environment 1\\Training\"\n",
    "print(directory)\n",
    "# Get all m4a files in the directory and its subdirectories\n",
    "m4a_files = glob.glob(os.path.join(directory, \"**/*.m4a\"), recursive=True)\n",
    "print(m4a_files)\n",
    "# Iterate over the m4a files\n",
    "for file_name in m4a_files:\n",
    "    # Load the m4a file\n",
    "    audio_file = AudioSegment.from_file(file_name, format=\"m4a\")\n",
    "\n",
    "    \n",
    "    # Change the sampling rate to 16000\n",
    "    audio_file = audio_file.set_frame_rate(16000)\n",
    "    \n",
    "    # Combine all channels to one channel\n",
    "    audio_file = audio_file.set_channels(1)\n",
    "    \n",
    "    # Save the audio file as a wav file\n",
    "    wav_file_name = file_name.replace(\".m4a\", \".wav\")\n",
    "    audio_file.export(wav_file_name, format=\"wav\")\n",
    "    \n",
    "    # Remove the m4a file\n",
    "    os.remove(file_name)"
   ]
  },
  {
   "cell_type": "code",
   "execution_count": null,
   "metadata": {},
   "outputs": [],
   "source": []
  }
 ],
 "metadata": {
  "kernelspec": {
   "display_name": "Python 3",
   "language": "python",
   "name": "python3"
  },
  "language_info": {
   "codemirror_mode": {
    "name": "ipython",
    "version": 3
   },
   "file_extension": ".py",
   "mimetype": "text/x-python",
   "name": "python",
   "nbconvert_exporter": "python",
   "pygments_lexer": "ipython3",
   "version": "3.11.9"
  }
 },
 "nbformat": 4,
 "nbformat_minor": 2
}
