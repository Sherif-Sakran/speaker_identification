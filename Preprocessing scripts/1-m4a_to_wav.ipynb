{
 "cells": [
  {
   "cell_type": "code",
   "execution_count": 3,
   "metadata": {},
   "outputs": [
    {
     "data": {
      "text/plain": [
       "<_io.BufferedRandom name='output.wav'>"
      ]
     },
     "execution_count": 3,
     "metadata": {},
     "output_type": "execute_result"
    }
   ],
   "source": [
    "from pydub import AudioSegment\n",
    "\n",
    "# Load the audio file\n",
    "file_name = \"test_si.m4a\"\n",
    "audio_file = AudioSegment.from_file(file_name, format=file_name.split(\".\")[-1])\n",
    "\n",
    "audio_file = audio_file.normalize()\n",
    "# Change the sampling rate to 1\n",
    "audio_file = audio_file.set_frame_rate(16000)\n",
    "\n",
    "# Combine all channels to one channel\n",
    "audio_file = audio_file.set_channels(1)\n",
    "# Export the audio file as WAV\n",
    "audio_file.export(\"output.wav\", format=\"wav\")\n"
   ]
  },
  {
   "cell_type": "code",
   "execution_count": 2,
   "metadata": {},
   "outputs": [],
   "source": [
    "import os\n",
    "from pydub import AudioSegment\n",
    "import glob\n",
    "\n",
    "# Specify the directory path\n",
    "directory = \"testing_different/\"\n",
    "\n",
    "# Get all m4a files in the directory and its subdirectories\n",
    "m4a_files = glob.glob(os.path.join(directory, \"**/*.m4a\"), recursive=True)\n",
    "\n",
    "# Iterate over the m4a files\n",
    "for file_name in m4a_files:\n",
    "    # Load the m4a file\n",
    "    audio_file = AudioSegment.from_file(file_name, format=\"m4a\")\n",
    "\n",
    "    \n",
    "    # Change the sampling rate to 16000\n",
    "    audio_file = audio_file.set_frame_rate(16000)\n",
    "    \n",
    "    # Combine all channels to one channel\n",
    "    audio_file = audio_file.set_channels(1)\n",
    "    \n",
    "    # Save the audio file as a wav file\n",
    "    wav_file_name = file_name.replace(\".m4a\", \".wav\")\n",
    "    audio_file.export(wav_file_name, format=\"wav\")\n",
    "    \n",
    "    # Remove the m4a file\n",
    "    os.remove(file_name)"
   ]
  },
  {
   "cell_type": "code",
   "execution_count": null,
   "metadata": {},
   "outputs": [],
   "source": []
  }
 ],
 "metadata": {
  "kernelspec": {
   "display_name": "Python 3",
   "language": "python",
   "name": "python3"
  },
  "language_info": {
   "codemirror_mode": {
    "name": "ipython",
    "version": 3
   },
   "file_extension": ".py",
   "mimetype": "text/x-python",
   "name": "python",
   "nbconvert_exporter": "python",
   "pygments_lexer": "ipython3",
   "version": "3.10.12"
  }
 },
 "nbformat": 4,
 "nbformat_minor": 2
}
