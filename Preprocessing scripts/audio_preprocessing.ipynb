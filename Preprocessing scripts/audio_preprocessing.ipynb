{
 "cells": [
  {
   "cell_type": "code",
   "execution_count": 20,
   "metadata": {},
   "outputs": [],
   "source": [
    "import os\n",
    "import wave\n",
    "from pydub import AudioSegment\n"
   ]
  },
  {
   "cell_type": "code",
   "execution_count": 30,
   "metadata": {},
   "outputs": [
    {
     "data": {
      "text/plain": [
       "['L_2.wav',\n",
       " 'L_1.wav',\n",
       " 'Renad_2.wav',\n",
       " 'Reem_2.wav',\n",
       " 'A_1.wav',\n",
       " 'S_1.wav',\n",
       " 'Sherif_1.wav',\n",
       " 'O_2.wav',\n",
       " 'Renad_1.wav',\n",
       " 'Y_2.wav',\n",
       " 'S_2.wav',\n",
       " 'A_2.wav',\n",
       " 'Sherif_2.wav',\n",
       " 'Reem_1.wav',\n",
       " 'O_1.wav',\n",
       " 'Y_1.wav']"
      ]
     },
     "execution_count": 30,
     "metadata": {},
     "output_type": "execute_result"
    }
   ],
   "source": [
    "src_directory_path = \"./pipeline/1-dataset_wav/\"\n",
    "dest_directory_path = \"./pipeline/2-preprocessed_dataset_wav/\"\n",
    "file_names = os.listdir(src_directory_path)\n",
    "file_names"
   ]
  },
  {
   "cell_type": "code",
   "execution_count": 22,
   "metadata": {},
   "outputs": [],
   "source": [
    "if os.path.isdir(dest_directory_path) == False:\n",
    "    os.mkdir(dest_directory_path)"
   ]
  },
  {
   "cell_type": "code",
   "execution_count": 29,
   "metadata": {},
   "outputs": [],
   "source": [
    "for file_name in file_names:\n",
    "    file_name = src_directory_path + file_name\n",
    "    # Open the WAV file\n",
    "    with wave.open(file_name, 'rb') as wav_file:\n",
    "        # Get the audio file properties\n",
    "        sample_width = wav_file.getsampwidth()\n",
    "        num_channels = wav_file.getnchannels()\n",
    "        sample_rate = wav_file.getframerate()\n",
    "        num_frames = wav_file.getnframes()\n",
    "\n",
    "        # Read the audio data\n",
    "        audio_data = wav_file.readframes(num_frames)\n",
    "\n",
    "    # Convert the audio data to AudioSegment object\n",
    "    audio = AudioSegment(\n",
    "        data=audio_data,\n",
    "        sample_width=sample_width,\n",
    "        frame_rate=sample_rate,\n",
    "        channels=num_channels\n",
    "    )\n",
    "\n",
    "    # Normalize the volume\n",
    "    normalized_audio = audio.normalize()\n",
    "\n",
    "    # Change the sampling rate to 1\n",
    "    normalized_audio = normalized_audio.set_frame_rate(16000)\n",
    "\n",
    "    # Combine all channels to one channel\n",
    "    normalized_audio = normalized_audio.set_channels(1)\n",
    "\n",
    "    # Export the normalized audio as WAV file\n",
    "    normalized_audio.export(file_name, format='wav')\n"
   ]
  },
  {
   "cell_type": "code",
   "execution_count": 27,
   "metadata": {},
   "outputs": [],
   "source": [
    "\n",
    "# Open the WAV file\n",
    "with wave.open('Sherif_1.wav', 'rb') as wav_file:\n",
    "    # Get the audio file properties\n",
    "    sample_width = wav_file.getsampwidth()\n",
    "    num_channels = wav_file.getnchannels()\n",
    "    sample_rate = wav_file.getframerate()\n",
    "    num_frames = wav_file.getnframes()\n",
    "\n",
    "    # Read the audio data\n",
    "    audio_data = wav_file.readframes(num_frames)\n"
   ]
  },
  {
   "cell_type": "code",
   "execution_count": 28,
   "metadata": {},
   "outputs": [
    {
     "data": {
      "text/plain": [
       "<_io.BufferedRandom name='Sherif_1_normalized.wav'>"
      ]
     },
     "execution_count": 28,
     "metadata": {},
     "output_type": "execute_result"
    }
   ],
   "source": [
    "from pydub import AudioSegment\n",
    "\n",
    "# Convert the audio data to AudioSegment object\n",
    "audio = AudioSegment(\n",
    "    data=audio_data,\n",
    "    sample_width=sample_width,\n",
    "    frame_rate=sample_rate,\n",
    "    channels=num_channels\n",
    ")\n",
    "\n",
    "# Normalize the volume\n",
    "normalized_audio = audio.normalize()\n",
    "\n",
    "# Change the sampling rate to 1\n",
    "normalized_audio = normalized_audio.set_frame_rate(16000)\n",
    "\n",
    "# Combine all channels to one channel\n",
    "normalized_audio = normalized_audio.set_channels(1)\n",
    "\n",
    "# Export the normalized audio as WAV file\n",
    "normalized_audio.export('Sherif_1_normalized.wav', format='wav')\n"
   ]
  },
  {
   "cell_type": "code",
   "execution_count": null,
   "metadata": {},
   "outputs": [],
   "source": []
  }
 ],
 "metadata": {
  "kernelspec": {
   "display_name": "Python 3",
   "language": "python",
   "name": "python3"
  },
  "language_info": {
   "codemirror_mode": {
    "name": "ipython",
    "version": 3
   },
   "file_extension": ".py",
   "mimetype": "text/x-python",
   "name": "python",
   "nbconvert_exporter": "python",
   "pygments_lexer": "ipython3",
   "version": "3.10.12"
  }
 },
 "nbformat": 4,
 "nbformat_minor": 2
}
