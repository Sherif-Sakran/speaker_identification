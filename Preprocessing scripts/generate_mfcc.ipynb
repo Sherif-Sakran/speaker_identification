{
 "cells": [
  {
   "cell_type": "code",
   "execution_count": 1,
   "metadata": {},
   "outputs": [],
   "source": [
    "from FeatureExtraction import extract_features\n",
    "from scipy.io.wavfile import read\n"
   ]
  },
  {
   "cell_type": "code",
   "execution_count": 6,
   "metadata": {},
   "outputs": [],
   "source": [
    "path = \"dataset_cm/testing_a/Sherif_a2/Sherif_1.wav\""
   ]
  },
  {
   "cell_type": "code",
   "execution_count": 7,
   "metadata": {},
   "outputs": [
    {
     "name": "stdout",
     "output_type": "stream",
     "text": [
      "(299, 22)\n",
      "[[-0.12731966 -1.03348358  0.72774017 ...  0.27840527 -0.64340103\n",
      "   1.00227886]\n",
      " [-0.35911228 -0.40944149  0.82875263 ...  0.38913214  0.07354904\n",
      "   0.38691178]\n",
      " [-0.04841619 -0.02824416  0.06377483 ... -0.23147975 -0.23679606\n",
      "  -0.55429331]\n",
      " ...\n",
      " [-1.26137945  0.27597065  1.10718568 ... -1.30985269 -1.64709457\n",
      "   0.07174125]\n",
      " [-0.74484401  0.60882889  1.00195757 ... -0.90324672 -1.30394267\n",
      "  -0.89967091]\n",
      " [-0.84609987  0.77346096  1.1531066  ... -0.02541901  0.35881362\n",
      "  -0.86199069]]\n"
     ]
    }
   ],
   "source": [
    "sr,audio = read(path)\n",
    "vector   = extract_features(audio,sr)\n",
    "print(vector.shape)\n",
    "print(vector)"
   ]
  },
  {
   "cell_type": "markdown",
   "metadata": {},
   "source": []
  },
  {
   "cell_type": "code",
   "execution_count": 24,
   "metadata": {},
   "outputs": [
    {
     "name": "stdout",
     "output_type": "stream",
     "text": [
      "Sherif_2\\Sherif_2\\Sherif_2_1.wav\n",
      "Processed Sherif_2\\Sherif_2_1.wav and saved the features to Sherif_2\\Sherif_2_1.csv\n",
      "Sherif_2\\Sherif_2\\Sherif_2_10.wav\n",
      "Processed Sherif_2\\Sherif_2_10.wav and saved the features to Sherif_2\\Sherif_2_10.csv\n",
      "Sherif_2\\Sherif_2\\Sherif_2_11.wav\n",
      "Processed Sherif_2\\Sherif_2_11.wav and saved the features to Sherif_2\\Sherif_2_11.csv\n",
      "Sherif_2\\Sherif_2\\Sherif_2_12.wav\n",
      "Processed Sherif_2\\Sherif_2_12.wav and saved the features to Sherif_2\\Sherif_2_12.csv\n",
      "Sherif_2\\Sherif_2\\Sherif_2_13.wav\n",
      "Processed Sherif_2\\Sherif_2_13.wav and saved the features to Sherif_2\\Sherif_2_13.csv\n",
      "Sherif_2\\Sherif_2\\Sherif_2_14.wav\n",
      "Processed Sherif_2\\Sherif_2_14.wav and saved the features to Sherif_2\\Sherif_2_14.csv\n",
      "Sherif_2\\Sherif_2\\Sherif_2_15.wav\n",
      "Processed Sherif_2\\Sherif_2_15.wav and saved the features to Sherif_2\\Sherif_2_15.csv\n",
      "Sherif_2\\Sherif_2\\Sherif_2_16.wav\n",
      "Processed Sherif_2\\Sherif_2_16.wav and saved the features to Sherif_2\\Sherif_2_16.csv\n",
      "Sherif_2\\Sherif_2\\Sherif_2_17.wav\n",
      "Processed Sherif_2\\Sherif_2_17.wav and saved the features to Sherif_2\\Sherif_2_17.csv\n",
      "Sherif_2\\Sherif_2\\Sherif_2_18.wav\n",
      "Processed Sherif_2\\Sherif_2_18.wav and saved the features to Sherif_2\\Sherif_2_18.csv\n",
      "Sherif_2\\Sherif_2\\Sherif_2_19.wav\n",
      "Processed Sherif_2\\Sherif_2_19.wav and saved the features to Sherif_2\\Sherif_2_19.csv\n",
      "Sherif_2\\Sherif_2\\Sherif_2_2.wav\n",
      "Processed Sherif_2\\Sherif_2_2.wav and saved the features to Sherif_2\\Sherif_2_2.csv\n",
      "Sherif_2\\Sherif_2\\Sherif_2_20.wav\n",
      "Processed Sherif_2\\Sherif_2_20.wav and saved the features to Sherif_2\\Sherif_2_20.csv\n",
      "Sherif_2\\Sherif_2\\Sherif_2_21.wav\n",
      "Processed Sherif_2\\Sherif_2_21.wav and saved the features to Sherif_2\\Sherif_2_21.csv\n",
      "Sherif_2\\Sherif_2\\Sherif_2_3.wav\n",
      "Processed Sherif_2\\Sherif_2_3.wav and saved the features to Sherif_2\\Sherif_2_3.csv\n",
      "Sherif_2\\Sherif_2\\Sherif_2_4.wav\n",
      "Processed Sherif_2\\Sherif_2_4.wav and saved the features to Sherif_2\\Sherif_2_4.csv\n",
      "Sherif_2\\Sherif_2\\Sherif_2_5.wav\n",
      "Processed Sherif_2\\Sherif_2_5.wav and saved the features to Sherif_2\\Sherif_2_5.csv\n",
      "Sherif_2\\Sherif_2\\Sherif_2_6.wav\n",
      "Processed Sherif_2\\Sherif_2_6.wav and saved the features to Sherif_2\\Sherif_2_6.csv\n",
      "Sherif_2\\Sherif_2\\Sherif_2_7.wav\n",
      "Processed Sherif_2\\Sherif_2_7.wav and saved the features to Sherif_2\\Sherif_2_7.csv\n",
      "Sherif_2\\Sherif_2\\Sherif_2_8.wav\n",
      "Processed Sherif_2\\Sherif_2_8.wav and saved the features to Sherif_2\\Sherif_2_8.csv\n",
      "Sherif_2\\Sherif_2\\Sherif_2_9.wav\n",
      "Processed Sherif_2\\Sherif_2_9.wav and saved the features to Sherif_2\\Sherif_2_9.csv\n"
     ]
    }
   ],
   "source": [
    "import os\n",
    "import numpy as np\n",
    "\n",
    "directory = \"Sherif_2\"\n",
    "wav_files = []\n",
    "\n",
    "# Traverse through all directories and subdirectories\n",
    "for root, dirs, files in os.walk(directory):\n",
    "    # Check each file in the current directory\n",
    "    for file in files:\n",
    "        # Check if the file has a .wav extension\n",
    "        if file.endswith('.wav'):\n",
    "            # If it does, add its full path to the list\n",
    "            wav_files.append(os.path.join(root, file))\n",
    "\n",
    "    for filename in wav_files:\n",
    "        print(os.path.join(root, filename))\n",
    "        if filename.endswith(\".wav\"):\n",
    "            file_path = filename\n",
    "            sr,audio = read(file_path)\n",
    "            vector = extract_features(audio, sr)\n",
    "            csv_filename = os.path.splitext(filename)[0] + \".csv\"\n",
    "            csv_path = csv_filename\n",
    "            np.savetxt(csv_path, vector, delimiter=\",\")\n",
    "            # os.remove(file_path)\n",
    "            print(f\"Processed {filename} and saved the features to {csv_filename}\")\n",
    "\n"
   ]
  },
  {
   "cell_type": "code",
   "execution_count": 25,
   "metadata": {},
   "outputs": [],
   "source": [
    "for file_path in wav_files:\n",
    "    os.remove(file_path)\n"
   ]
  },
  {
   "cell_type": "code",
   "execution_count": 26,
   "metadata": {},
   "outputs": [
    {
     "data": {
      "text/plain": [
       "['Sherif_2\\\\Sherif_2_1.wav',\n",
       " 'Sherif_2\\\\Sherif_2_10.wav',\n",
       " 'Sherif_2\\\\Sherif_2_11.wav',\n",
       " 'Sherif_2\\\\Sherif_2_12.wav',\n",
       " 'Sherif_2\\\\Sherif_2_13.wav',\n",
       " 'Sherif_2\\\\Sherif_2_14.wav',\n",
       " 'Sherif_2\\\\Sherif_2_15.wav',\n",
       " 'Sherif_2\\\\Sherif_2_16.wav',\n",
       " 'Sherif_2\\\\Sherif_2_17.wav',\n",
       " 'Sherif_2\\\\Sherif_2_18.wav',\n",
       " 'Sherif_2\\\\Sherif_2_19.wav',\n",
       " 'Sherif_2\\\\Sherif_2_2.wav',\n",
       " 'Sherif_2\\\\Sherif_2_20.wav',\n",
       " 'Sherif_2\\\\Sherif_2_21.wav',\n",
       " 'Sherif_2\\\\Sherif_2_3.wav',\n",
       " 'Sherif_2\\\\Sherif_2_4.wav',\n",
       " 'Sherif_2\\\\Sherif_2_5.wav',\n",
       " 'Sherif_2\\\\Sherif_2_6.wav',\n",
       " 'Sherif_2\\\\Sherif_2_7.wav',\n",
       " 'Sherif_2\\\\Sherif_2_8.wav',\n",
       " 'Sherif_2\\\\Sherif_2_9.wav']"
      ]
     },
     "execution_count": 26,
     "metadata": {},
     "output_type": "execute_result"
    }
   ],
   "source": [
    "wav_files"
   ]
  },
  {
   "cell_type": "code",
   "execution_count": 21,
   "metadata": {},
   "outputs": [],
   "source": [
    "directory = \"Silence\"\n",
    "\n",
    "for root, dirs, files in os.walk(directory):\n",
    "    for file in files:\n",
    "        print(os.path.join(root, file))"
   ]
  },
  {
   "cell_type": "code",
   "execution_count": null,
   "metadata": {},
   "outputs": [],
   "source": []
  }
 ],
 "metadata": {
  "kernelspec": {
   "display_name": "Python 3",
   "language": "python",
   "name": "python3"
  },
  "language_info": {
   "codemirror_mode": {
    "name": "ipython",
    "version": 3
   },
   "file_extension": ".py",
   "mimetype": "text/x-python",
   "name": "python",
   "nbconvert_exporter": "python",
   "pygments_lexer": "ipython3",
   "version": "3.11.9"
  }
 },
 "nbformat": 4,
 "nbformat_minor": 2
}
