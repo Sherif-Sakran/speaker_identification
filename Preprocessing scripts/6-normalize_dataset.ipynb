{
 "cells": [
  {
   "cell_type": "code",
   "execution_count": 1,
   "metadata": {},
   "outputs": [],
   "source": [
    "import os\n",
    "import wave\n",
    "from pydub import AudioSegment\n"
   ]
  },
  {
   "cell_type": "code",
   "execution_count": 15,
   "metadata": {},
   "outputs": [
    {
     "name": "stdout",
     "output_type": "stream",
     "text": [
      "['VidTIMIT_training/fdms0-011/sa2.wav', 'VidTIMIT_training/fdms0-011/sx138.wav', 'VidTIMIT_training/fdms0-011/sa1.wav', 'VidTIMIT_training/fdms0-011/sx408.wav', 'VidTIMIT_training/fdms0-011/sx318.wav', 'VidTIMIT_training/fdms0-011/sx48.wav', 'VidTIMIT_training/fdms0-011/si1848.wav', 'VidTIMIT_training/fdms0-011/sx228.wav', 'VidTIMIT_training/fjem0-070/sx94.wav', 'VidTIMIT_training/fjem0-070/sa2.wav', 'VidTIMIT_training/fjem0-070/sx274.wav', 'VidTIMIT_training/fjem0-070/sa1.wav', 'VidTIMIT_training/fjem0-070/si1264.wav', 'VidTIMIT_training/fjem0-070/sx184.wav', 'VidTIMIT_training/fjem0-070/sx364.wav', 'VidTIMIT_training/fjem0-070/si1894.wav', 'VidTIMIT_training/fdac1-021/si844.wav', 'VidTIMIT_training/fdac1-021/sx394.wav', 'VidTIMIT_training/fdac1-021/sa1.wav', 'VidTIMIT_training/fdac1-021/sx124.wav', 'VidTIMIT_training/fdac1-021/si1474.wav', 'VidTIMIT_training/fdac1-021/si2104.wav', 'VidTIMIT_training/fdac1-021/sx304.wav', 'VidTIMIT_training/fdac1-021/sx34.wav', 'VidTIMIT_training/mrgg0-050/sx389.wav', 'VidTIMIT_training/mrgg0-050/sa2.wav', 'VidTIMIT_training/mrgg0-050/si569.wav', 'VidTIMIT_training/mrgg0-050/sx299.wav', 'VidTIMIT_training/mrgg0-050/sa1.wav', 'VidTIMIT_training/mrgg0-050/sx119.wav', 'VidTIMIT_training/mrgg0-050/si1829.wav', 'VidTIMIT_training/mrgg0-050/si1199.wav', 'VidTIMIT_training/mpdf0-060/sa2.wav', 'VidTIMIT_training/mpdf0-060/sx192.wav', 'VidTIMIT_training/mpdf0-060/sa1.wav', 'VidTIMIT_training/mpdf0-060/sx12.wav', 'VidTIMIT_training/mpdf0-060/si1542.wav', 'VidTIMIT_training/mpdf0-060/sx372.wav', 'VidTIMIT_training/mpdf0-060/sx282.wav', 'VidTIMIT_training/mpdf0-060/sx102.wav', 'VidTIMIT_training/fpkt0-084/sa2.wav', 'VidTIMIT_training/fpkt0-084/sx368.wav', 'VidTIMIT_training/fpkt0-084/sa1.wav', 'VidTIMIT_training/fpkt0-084/sx188.wav', 'VidTIMIT_training/fpkt0-084/sx98.wav', 'VidTIMIT_training/fpkt0-084/si1538.wav', 'VidTIMIT_training/fpkt0-084/si2168.wav', 'VidTIMIT_training/fpkt0-084/si908.wav', 'VidTIMIT_training/fcft0-030/si1178.wav', 'VidTIMIT_training/fcft0-030/sx8.wav', 'VidTIMIT_training/fcft0-030/sx368.wav', 'VidTIMIT_training/fcft0-030/sa1.wav', 'VidTIMIT_training/fcft0-030/sx188.wav', 'VidTIMIT_training/fcft0-030/si1808.wav', 'VidTIMIT_training/fcft0-030/sx98.wav', 'VidTIMIT_training/fcft0-030/sx278.wav', 'VidTIMIT_training/fcmh0-078/sa2.wav', 'VidTIMIT_training/fcmh0-078/sa1.wav', 'VidTIMIT_training/fcmh0-078/sx284.wav', 'VidTIMIT_training/fcmh0-078/si1454.wav', 'VidTIMIT_training/fcmh0-078/si824.wav', 'VidTIMIT_training/fcmh0-078/sx104.wav', 'VidTIMIT_training/fcmh0-078/sx194.wav', 'VidTIMIT_training/fcmh0-078/si2084.wav', 'VidTIMIT_training/mbdg0-079/sx203.wav', 'VidTIMIT_training/mbdg0-079/si833.wav', 'VidTIMIT_training/mbdg0-079/sx23.wav', 'VidTIMIT_training/mbdg0-079/sa1.wav', 'VidTIMIT_training/mbdg0-079/sx383.wav', 'VidTIMIT_training/mbdg0-079/si2093.wav', 'VidTIMIT_training/mbdg0-079/sx113.wav', 'VidTIMIT_training/mbdg0-079/sx293.wav', 'VidTIMIT_training/mjar0-031/sa2.wav', 'VidTIMIT_training/mjar0-031/si1988.wav', 'VidTIMIT_training/mjar0-031/sx368.wav', 'VidTIMIT_training/mjar0-031/sa1.wav', 'VidTIMIT_training/mjar0-031/sx188.wav', 'VidTIMIT_training/mjar0-031/sx98.wav', 'VidTIMIT_training/mjar0-031/si728.wav', 'VidTIMIT_training/mjar0-031/si2247.wav', 'VidTIMIT_training/fkms0-062/sx50.wav', 'VidTIMIT_training/fkms0-062/sx320.wav', 'VidTIMIT_training/fkms0-062/sx410.wav', 'VidTIMIT_training/fkms0-062/sa1.wav', 'VidTIMIT_training/fkms0-062/sx140.wav', 'VidTIMIT_training/fkms0-062/si2120.wav', 'VidTIMIT_training/fkms0-062/si860.wav', 'VidTIMIT_training/fkms0-062/si1490.wav', 'VidTIMIT_training/mmdm2-087/sa2.wav', 'VidTIMIT_training/mmdm2-087/si1555.wav', 'VidTIMIT_training/mmdm2-087/sx192.wav', 'VidTIMIT_training/mmdm2-087/sa1.wav', 'VidTIMIT_training/mmdm2-087/sx12.wav', 'VidTIMIT_training/mmdm2-087/sx372.wav', 'VidTIMIT_training/mmdm2-087/sx282.wav', 'VidTIMIT_training/mmdm2-087/sx102.wav', 'VidTIMIT_training/mcem0-044/sa2.wav', 'VidTIMIT_training/mcem0-044/sx138.wav', 'VidTIMIT_training/mcem0-044/sa1.wav', 'VidTIMIT_training/mcem0-044/sx408.wav', 'VidTIMIT_training/mcem0-044/sx318.wav', 'VidTIMIT_training/mcem0-044/sx48.wav', 'VidTIMIT_training/mcem0-044/si768.wav', 'VidTIMIT_training/mcem0-044/sx228.wav', 'VidTIMIT_training/mtmr0-066/sx223.wav', 'VidTIMIT_training/mtmr0-066/sx133.wav', 'VidTIMIT_training/mtmr0-066/si673.wav', 'VidTIMIT_training/mtmr0-066/sx43.wav', 'VidTIMIT_training/mtmr0-066/sx313.wav', 'VidTIMIT_training/mtmr0-066/sa1.wav', 'VidTIMIT_training/mtmr0-066/si1303.wav', 'VidTIMIT_training/mtmr0-066/sx403.wav', 'VidTIMIT_training/mccs0-007/si1469.wav', 'VidTIMIT_training/mccs0-007/sx209.wav', 'VidTIMIT_training/mccs0-007/sa2.wav', 'VidTIMIT_training/mccs0-007/sx299.wav', 'VidTIMIT_training/mccs0-007/sa1.wav', 'VidTIMIT_training/mccs0-007/sx119.wav', 'VidTIMIT_training/mccs0-007/si839.wav', 'VidTIMIT_training/mccs0-007/si2099.wav', 'VidTIMIT_training/fdrd1-056/sa2.wav', 'VidTIMIT_training/fdrd1-056/si2149.wav', 'VidTIMIT_training/fdrd1-056/sa1.wav', 'VidTIMIT_training/fdrd1-056/sx284.wav', 'VidTIMIT_training/fdrd1-056/si1544.wav', 'VidTIMIT_training/fdrd1-056/sx104.wav', 'VidTIMIT_training/fdrd1-056/sx194.wav', 'VidTIMIT_training/fdrd1-056/sx374.wav', 'VidTIMIT_training/fedw0-082/sx94.wav', 'VidTIMIT_training/fedw0-082/sx274.wav', 'VidTIMIT_training/fedw0-082/si1653.wav', 'VidTIMIT_training/fedw0-082/sa1.wav', 'VidTIMIT_training/fedw0-082/si1714.wav', 'VidTIMIT_training/fedw0-082/si1084.wav', 'VidTIMIT_training/fedw0-082/sx184.wav', 'VidTIMIT_training/fedw0-082/sx4.wav', 'VidTIMIT_training/fadg0-016/sa2.wav', 'VidTIMIT_training/fadg0-016/sx289.wav', 'VidTIMIT_training/fadg0-016/sa1.wav', 'VidTIMIT_training/fadg0-016/sx19.wav', 'VidTIMIT_training/fadg0-016/si1279.wav', 'VidTIMIT_training/fadg0-016/si1909.wav', 'VidTIMIT_training/fadg0-016/sx199.wav', 'VidTIMIT_training/fadg0-016/si649.wav', 'VidTIMIT_training/fgjd0-059/sa2.wav', 'VidTIMIT_training/fgjd0-059/sx9.wav', 'VidTIMIT_training/fgjd0-059/sa1.wav', 'VidTIMIT_training/fgjd0-059/sx369.wav', 'VidTIMIT_training/fgjd0-059/si818.wav', 'VidTIMIT_training/fgjd0-059/si549.wav', 'VidTIMIT_training/fgjd0-059/si1179.wav', 'VidTIMIT_training/fgjd0-059/sx279.wav', 'VidTIMIT_training/fjas0-074/sx50.wav', 'VidTIMIT_training/fjas0-074/sx320.wav', 'VidTIMIT_training/fjas0-074/si770.wav', 'VidTIMIT_training/fjas0-074/sx410.wav', 'VidTIMIT_training/fjas0-074/sa1.wav', 'VidTIMIT_training/fjas0-074/sx140.wav', 'VidTIMIT_training/fjas0-074/si1400.wav', 'VidTIMIT_training/fjas0-074/si2030.wav', 'VidTIMIT_training/msjs1-002/sa2.wav', 'VidTIMIT_training/msjs1-002/sx9.wav', 'VidTIMIT_training/msjs1-002/sa1.wav', 'VidTIMIT_training/msjs1-002/si639.wav', 'VidTIMIT_training/msjs1-002/si1899.wav', 'VidTIMIT_training/msjs1-002/sx369.wav', 'VidTIMIT_training/msjs1-002/si869.wav', 'VidTIMIT_training/msjs1-002/sx279.wav', 'VidTIMIT_training/mjsw0-054/sx200.wav', 'VidTIMIT_training/mjsw0-054/sa2.wav', 'VidTIMIT_training/mjsw0-054/sa1.wav', 'VidTIMIT_training/mjsw0-054/sx20.wav', 'VidTIMIT_training/mjsw0-054/sx380.wav', 'VidTIMIT_training/mjsw0-054/si2270.wav', 'VidTIMIT_training/mjsw0-054/si1010.wav', 'VidTIMIT_training/mjsw0-054/sx110.wav', 'VidTIMIT_training/mrcz0-068/si1541.wav', 'VidTIMIT_training/mrcz0-068/sa2.wav', 'VidTIMIT_training/mrcz0-068/sx371.wav', 'VidTIMIT_training/mrcz0-068/sa1.wav', 'VidTIMIT_training/mrcz0-068/si911.wav', 'VidTIMIT_training/mrcz0-068/sx191.wav', 'VidTIMIT_training/mrcz0-068/sx281.wav', 'VidTIMIT_training/mrcz0-068/sx11.wav', 'VidTIMIT_training/faks0-076/sx223.wav', 'VidTIMIT_training/faks0-076/sx133.wav', 'VidTIMIT_training/faks0-076/si943.wav', 'VidTIMIT_training/faks0-076/sx43.wav', 'VidTIMIT_training/faks0-076/sx313.wav', 'VidTIMIT_training/faks0-076/sa1.wav', 'VidTIMIT_training/faks0-076/sx403.wav', 'VidTIMIT_training/faks0-076/si1573.wav', 'VidTIMIT_training/mdab0-023/sa2.wav', 'VidTIMIT_training/mdab0-023/si1039.wav', 'VidTIMIT_training/mdab0-023/sa1.wav', 'VidTIMIT_training/mdab0-023/sx139.wav', 'VidTIMIT_training/mdab0-023/sx229.wav', 'VidTIMIT_training/mdab0-023/sx49.wav', 'VidTIMIT_training/mdab0-023/si1669.wav', 'VidTIMIT_training/mdab0-023/sx319.wav', 'VidTIMIT_training/fjwb0-080/si635.wav', 'VidTIMIT_training/fjwb0-080/sx185.wav', 'VidTIMIT_training/fjwb0-080/sx5.wav', 'VidTIMIT_training/fjwb0-080/sa1.wav', 'VidTIMIT_training/fjwb0-080/si992.wav', 'VidTIMIT_training/fjwb0-080/sx365.wav', 'VidTIMIT_training/fjwb0-080/sx95.wav', 'VidTIMIT_training/fjwb0-080/si1265.wav', 'VidTIMIT_training/mbjk0-020/si2128.wav', 'VidTIMIT_training/mbjk0-020/sx185.wav', 'VidTIMIT_training/mbjk0-020/sx5.wav', 'VidTIMIT_training/mbjk0-020/sa1.wav', 'VidTIMIT_training/mbjk0-020/sx365.wav', 'VidTIMIT_training/mbjk0-020/sx95.wav', 'VidTIMIT_training/mbjk0-020/si545.wav', 'VidTIMIT_training/mbjk0-020/sx275.wav', 'VidTIMIT_training/mabw0-043/sa2.wav', 'VidTIMIT_training/mabw0-043/si2294.wav', 'VidTIMIT_training/mabw0-043/si1664.wav', 'VidTIMIT_training/mabw0-043/sx44.wav', 'VidTIMIT_training/mabw0-043/sx314.wav', 'VidTIMIT_training/mabw0-043/sx404.wav', 'VidTIMIT_training/mabw0-043/sx134.wav', 'VidTIMIT_training/mabw0-043/si1230.wav', 'VidTIMIT_training/mpgl0-048/si1729.wav', 'VidTIMIT_training/mpgl0-048/sx379.wav', 'VidTIMIT_training/mpgl0-048/sx289.wav', 'VidTIMIT_training/mpgl0-048/sa1.wav', 'VidTIMIT_training/mpgl0-048/sx19.wav', 'VidTIMIT_training/mpgl0-048/sx199.wav', 'VidTIMIT_training/mpgl0-048/sx109.wav', 'VidTIMIT_training/mpgl0-048/si469.wav', 'VidTIMIT_training/mgwt0-017/sa2.wav', 'VidTIMIT_training/mgwt0-017/si909.wav', 'VidTIMIT_training/mgwt0-017/si2169.wav', 'VidTIMIT_training/mgwt0-017/sx9.wav', 'VidTIMIT_training/mgwt0-017/sa1.wav', 'VidTIMIT_training/mgwt0-017/sx369.wav', 'VidTIMIT_training/mgwt0-017/sx99.wav', 'VidTIMIT_training/mgwt0-017/si1539.wav', 'VidTIMIT_training/mtas1-026/si838.wav', 'VidTIMIT_training/mtas1-026/sa2.wav', 'VidTIMIT_training/mtas1-026/sx208.wav', 'VidTIMIT_training/mtas1-026/sa1.wav', 'VidTIMIT_training/mtas1-026/sx28.wav', 'VidTIMIT_training/mtas1-026/si2098.wav', 'VidTIMIT_training/mtas1-026/sx388.wav', 'VidTIMIT_training/mtas1-026/sx298.wav', 'VidTIMIT_training/fram1-035/sx370.wav', 'VidTIMIT_training/fram1-035/sa1.wav', 'VidTIMIT_training/fram1-035/sx190.wav', 'VidTIMIT_training/fram1-035/sx280.wav', 'VidTIMIT_training/fram1-035/si1360.wav', 'VidTIMIT_training/fram1-035/sx10.wav', 'VidTIMIT_training/fram1-035/sx100.wav', 'VidTIMIT_training/fram1-035/si730.wav', 'VidTIMIT_training/fjre0-051/sx126.wav', 'VidTIMIT_training/fjre0-051/si1587.wav', 'VidTIMIT_training/fjre0-051/sa1.wav', 'VidTIMIT_training/fjre0-051/sx306.wav', 'VidTIMIT_training/fjre0-051/sx216.wav', 'VidTIMIT_training/fjre0-051/si1746.wav', 'VidTIMIT_training/fjre0-051/sx396.wav', 'VidTIMIT_training/fjre0-051/si1116.wav', 'VidTIMIT_training/mdld0-018/sx373.wav', 'VidTIMIT_training/mdld0-018/si1543.wav', 'VidTIMIT_training/mdld0-018/sa1.wav', 'VidTIMIT_training/mdld0-018/sx283.wav', 'VidTIMIT_training/mdld0-018/si913.wav', 'VidTIMIT_training/mdld0-018/sx193.wav', 'VidTIMIT_training/mdld0-018/si2173.wav', 'VidTIMIT_training/mdld0-018/sx13.wav', 'VidTIMIT_training/fcrh0-027/sa2.wav', 'VidTIMIT_training/fcrh0-027/sx368.wav', 'VidTIMIT_training/fcrh0-027/sa1.wav', 'VidTIMIT_training/fcrh0-027/sx188.wav', 'VidTIMIT_training/fcrh0-027/sx98.wav', 'VidTIMIT_training/fcrh0-027/si1718.wav', 'VidTIMIT_training/fcrh0-027/si1088.wav', 'VidTIMIT_training/fcrh0-027/sx278.wav', 'VidTIMIT_training/mreb0-061/sa2.wav', 'VidTIMIT_training/mreb0-061/sa1.wav', 'VidTIMIT_training/mreb0-061/sx295.wav', 'VidTIMIT_training/mreb0-061/si2005.wav', 'VidTIMIT_training/mreb0-061/si745.wav', 'VidTIMIT_training/mreb0-061/sx385.wav', 'VidTIMIT_training/mreb0-061/sx115.wav', 'VidTIMIT_training/mreb0-061/sx205.wav', 'VidTIMIT_training/mrjo0-008/sa2.wav', 'VidTIMIT_training/mrjo0-008/si1364.wav', 'VidTIMIT_training/mrjo0-008/sa1.wav', 'VidTIMIT_training/mrjo0-008/sx284.wav', 'VidTIMIT_training/mrjo0-008/si734.wav', 'VidTIMIT_training/mrjo0-008/sx104.wav', 'VidTIMIT_training/mrjo0-008/sx194.wav', 'VidTIMIT_training/mrjo0-008/sx374.wav', 'VidTIMIT_training/fcmr0-045/sa2.wav', 'VidTIMIT_training/fcmr0-045/sa1.wav', 'VidTIMIT_training/fcmr0-045/sx295.wav', 'VidTIMIT_training/fcmr0-045/sx385.wav', 'VidTIMIT_training/fcmr0-045/sx115.wav', 'VidTIMIT_training/fcmr0-045/sx25.wav', 'VidTIMIT_training/fcmr0-045/sx205.wav', 'VidTIMIT_training/fcmr0-045/si1105.wav', 'VidTIMIT_training/felc0-083/sx126.wav', 'VidTIMIT_training/felc0-083/sa1.wav', 'VidTIMIT_training/felc0-083/si2016.wav', 'VidTIMIT_training/felc0-083/sx306.wav', 'VidTIMIT_training/felc0-083/sx216.wav', 'VidTIMIT_training/felc0-083/si756.wav', 'VidTIMIT_training/felc0-083/si1386.wav', 'VidTIMIT_training/felc0-083/sx36.wav', 'VidTIMIT_training/mmdb1-013/sa2.wav', 'VidTIMIT_training/mmdb1-013/sx5.wav', 'VidTIMIT_training/mmdb1-013/sa1.wav', 'VidTIMIT_training/mmdb1-013/sx1625.wav', 'VidTIMIT_training/mmdb1-013/sx365.wav', 'VidTIMIT_training/mmdb1-013/sx95.wav', 'VidTIMIT_training/mmdb1-013/si995.wav', 'VidTIMIT_training/mmdb1-013/sx275.wav', 'VidTIMIT_training/mwbt0-001/sx203.wav', 'VidTIMIT_training/mwbt0-001/si1553.wav', 'VidTIMIT_training/mwbt0-001/sx23.wav', 'VidTIMIT_training/mwbt0-001/sa1.wav', 'VidTIMIT_training/mwbt0-001/sx383.wav', 'VidTIMIT_training/mwbt0-001/si923.wav', 'VidTIMIT_training/mwbt0-001/sx113.wav', 'VidTIMIT_training/mwbt0-001/sx293.wav', 'VidTIMIT_training/mstk0-064/sa2.wav', 'VidTIMIT_training/mstk0-064/sx394.wav', 'VidTIMIT_training/mstk0-064/sa1.wav', 'VidTIMIT_training/mstk0-064/sx124.wav', 'VidTIMIT_training/mstk0-064/si1024.wav', 'VidTIMIT_training/mstk0-064/sx304.wav', 'VidTIMIT_training/mstk0-064/sx214.wav', 'VidTIMIT_training/mstk0-064/sx34.wav', 'VidTIMIT_training/mdbb0-041/sx1195.wav', 'VidTIMIT_training/mdbb0-041/sa2.wav', 'VidTIMIT_training/mdbb0-041/sa1.wav', 'VidTIMIT_training/mdbb0-041/sx295.wav', 'VidTIMIT_training/mdbb0-041/sx385.wav', 'VidTIMIT_training/mdbb0-041/si565.wav', 'VidTIMIT_training/mdbb0-041/sx115.wav', 'VidTIMIT_training/mdbb0-041/sx205.wav']\n"
     ]
    }
   ],
   "source": [
    "import glob\n",
    "\n",
    "# Replace 'directory_path' with the actual directory path you want to read files from\n",
    "directory_path = \"VidTIMIT_training/\"\n",
    "\n",
    "# Use glob to get a list of all WAV files in the directory recursively\n",
    "wav_files = glob.glob(directory_path + '/**/*.wav', recursive=True)\n",
    "\n",
    "# Print the list of WAV files\n",
    "print(wav_files)\n"
   ]
  },
  {
   "cell_type": "code",
   "execution_count": 16,
   "metadata": {},
   "outputs": [],
   "source": [
    "for file_name in wav_files:\n",
    "    with wave.open(file_name, 'rb') as wav_file:\n",
    "        # Get the audio file properties\n",
    "        sample_width = wav_file.getsampwidth()\n",
    "        num_channels = wav_file.getnchannels()\n",
    "        sample_rate = wav_file.getframerate()\n",
    "        num_frames = wav_file.getnframes()\n",
    "\n",
    "        # Read the audio data\n",
    "        audio_data = wav_file.readframes(num_frames)\n",
    "\n",
    "    # Convert the audio data to AudioSegment object\n",
    "    audio = AudioSegment(\n",
    "        data=audio_data,\n",
    "        sample_width=sample_width,\n",
    "        frame_rate=sample_rate,\n",
    "        channels=num_channels\n",
    "    )\n",
    "\n",
    "    # Normalize the volume\n",
    "    normalized_audio = audio.normalize()\n",
    "\n",
    "    # Change the sampling rate to 1\n",
    "    normalized_audio = normalized_audio.set_frame_rate(16000)\n",
    "\n",
    "    # Combine all channels to one channel\n",
    "    normalized_audio = normalized_audio.set_channels(1)\n",
    "\n",
    "    # Export the normalized audio as WAV file\n",
    "    normalized_audio.export(file_name, format='wav')\n"
   ]
  }
 ],
 "metadata": {
  "kernelspec": {
   "display_name": "Python 3",
   "language": "python",
   "name": "python3"
  },
  "language_info": {
   "codemirror_mode": {
    "name": "ipython",
    "version": 3
   },
   "file_extension": ".py",
   "mimetype": "text/x-python",
   "name": "python",
   "nbconvert_exporter": "python",
   "pygments_lexer": "ipython3",
   "version": "3.10.12"
  }
 },
 "nbformat": 4,
 "nbformat_minor": 2
}
