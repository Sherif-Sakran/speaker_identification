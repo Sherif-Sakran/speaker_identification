{
 "cells": [
  {
   "cell_type": "code",
   "execution_count": 65,
   "metadata": {
    "id": "_ESh_rN5iz2L"
   },
   "outputs": [],
   "source": [
    "from scipy.io import wavfile\n",
    "import numpy as np\n",
    "import os"
   ]
  },
  {
   "cell_type": "code",
   "execution_count": 66,
   "metadata": {},
   "outputs": [],
   "source": [
    "# run this on Training and Testing in Evironment 1 (change dataset[index] in src_directory_path)\n",
    "dataset = ['Testing', 'Training']\n",
    "src_directory_path = f'../Datasets\\Environment 1\\{dataset[1]}\\\\'\n",
    "dest_directory_path = src_directory_path\n",
    "google_drive = False\n",
    "if google_drive:\n",
    "    src_directory_path = '/content/drive/MyDrive/thesis_models/' + src_directory_path\n",
    "    dest_directory_path = '/content/drive/MyDrive/thesis_models/' + dest_directory_path"
   ]
  },
  {
   "cell_type": "code",
   "execution_count": 67,
   "metadata": {},
   "outputs": [
    {
     "name": "stdout",
     "output_type": "stream",
     "text": [
      "Directory '../Datasets\\Environment 1\\Training\\' already exists.\n"
     ]
    }
   ],
   "source": [
    "if not os.path.exists(dest_directory_path):\n",
    "    os.makedirs(dest_directory_path)\n",
    "    print(f\"Directory '{dest_directory_path}' created successfully.\")\n",
    "else:\n",
    "    print(f\"Directory '{dest_directory_path}' already exists.\")"
   ]
  },
  {
   "cell_type": "code",
   "execution_count": 68,
   "metadata": {
    "id": "x8Vd8PA6dnsd"
   },
   "outputs": [],
   "source": [
    "def trim_wav(input_file, output_folder, segment_name, offset=0):\n",
    "    sample_rate, audio_data = wavfile.read(input_file)\n",
    "    segment_duration = 3 * sample_rate\n",
    "    num_segments = len(audio_data) // segment_duration\n",
    "    if not os.path.exists(output_folder):\n",
    "        os.makedirs(output_folder)\n",
    "\n",
    "    for i in range(num_segments):\n",
    "        start_sample = i * segment_duration\n",
    "        end_sample = (i + 1) * segment_duration\n",
    "        segment = audio_data[start_sample:end_sample]\n",
    "        output_file = os.path.join(output_folder, f\"{segment_name}_{i+1+offset}.wav\")\n",
    "        wavfile.write(output_file, sample_rate, segment)"
   ]
  },
  {
   "cell_type": "code",
   "execution_count": 69,
   "metadata": {},
   "outputs": [
    {
     "data": {
      "text/plain": [
       "['Abdelrahman.wav',\n",
       " 'Omar.wav',\n",
       " 'Reem.wav',\n",
       " 'Renad.wav',\n",
       " 'Sherif.wav',\n",
       " 'Youssef.wav']"
      ]
     },
     "execution_count": 69,
     "metadata": {},
     "output_type": "execute_result"
    }
   ],
   "source": [
    "file_names = os.listdir(src_directory_path)\n",
    "file_names"
   ]
  },
  {
   "cell_type": "code",
   "execution_count": 70,
   "metadata": {
    "id": "2cfC-M-LjIaM"
   },
   "outputs": [
    {
     "name": "stdout",
     "output_type": "stream",
     "text": [
      "Directory '../Datasets\\Environment 1\\Training\\Abdelrahman' created successfully.\n",
      "Directory '../Datasets\\Environment 1\\Training\\Omar' created successfully.\n",
      "Directory '../Datasets\\Environment 1\\Training\\Reem' created successfully.\n",
      "Directory '../Datasets\\Environment 1\\Training\\Renad' created successfully.\n",
      "Directory '../Datasets\\Environment 1\\Training\\Sherif' created successfully.\n",
      "Directory '../Datasets\\Environment 1\\Training\\Youssef' created successfully.\n"
     ]
    }
   ],
   "source": [
    "for i in range(len(file_names)):\n",
    "    input_wavfile = os.path.join(src_directory_path, file_names[i])\n",
    "    segment_name = file_names[i].split('.')[0].split('_')[0]\n",
    "    offset = 0 # counter starts at 1 + offset (for assembling a person's class from different recordings)\n",
    "    output_folder = dest_directory_path + file_names[i].split('.')[0]\n",
    "    output_folder\n",
    "\n",
    "    if not os.path.exists(output_folder):\n",
    "        os.makedirs(output_folder)\n",
    "        print(f\"Directory '{output_folder}' created successfully.\")\n",
    "    else:\n",
    "        print(f\"Directory '{output_folder}' already exists.\")\n",
    "\n",
    "    trim_wav(input_wavfile, output_folder, segment_name, offset)\n",
    "    os.remove(input_wavfile)"
   ]
  },
  {
   "cell_type": "code",
   "execution_count": 71,
   "metadata": {
    "id": "5QfgY77JeWGN"
   },
   "outputs": [],
   "source": [
    "if google_drive:\n",
    "  import shutil\n",
    "  from google.colab import files\n",
    "\n",
    "  if \"MyDrive\" not in output_folder:\n",
    "    shutil.make_archive(f\"/content/{output_folder}\", 'zip', f\"/content/{output_folder}\")\n",
    "    files.download(f\"/content/{output_folder}.zip\")"
   ]
  },
  {
   "cell_type": "code",
   "execution_count": 72,
   "metadata": {},
   "outputs": [
    {
     "ename": "SyntaxError",
     "evalue": "invalid syntax (4067800170.py, line 1)",
     "output_type": "error",
     "traceback": [
      "\u001b[1;36m  Cell \u001b[1;32mIn[72], line 1\u001b[1;36m\u001b[0m\n\u001b[1;33m    stop here\u001b[0m\n\u001b[1;37m         ^\u001b[0m\n\u001b[1;31mSyntaxError\u001b[0m\u001b[1;31m:\u001b[0m invalid syntax\n"
     ]
    }
   ],
   "source": [
    "stop here"
   ]
  },
  {
   "cell_type": "code",
   "execution_count": null,
   "metadata": {
    "id": "B53e4B59exXl"
   },
   "outputs": [],
   "source": [
    "import glob\n",
    "\n",
    "# Get all file paths in the directory recursively\n",
    "src_directory_path = 'testing_different/'\n",
    "file_paths = glob.glob(src_directory_path + '/**/*.wav', recursive=True)\n",
    "\n",
    "# Iterate over the file paths\n",
    "for file_path in file_paths:\n",
    "    # Read the WAV file\n",
    "    sample_rate, audio_data = wavfile.read(file_path)\n",
    "\n",
    "    # Define the duration of each segment in samples (3 seconds)\n",
    "    segment_duration = 3 * sample_rate\n",
    "\n",
    "\n",
    "    start_sample = 0\n",
    "    end_sample = segment_duration\n",
    "    segment = audio_data[start_sample:end_sample]\n",
    "    wavfile.write(file_path, sample_rate, segment)"
   ]
  },
  {
   "cell_type": "code",
   "execution_count": null,
   "metadata": {},
   "outputs": [],
   "source": []
  }
 ],
 "metadata": {
  "colab": {
   "provenance": []
  },
  "kernelspec": {
   "display_name": "Python 3",
   "name": "python3"
  },
  "language_info": {
   "codemirror_mode": {
    "name": "ipython",
    "version": 3
   },
   "file_extension": ".py",
   "mimetype": "text/x-python",
   "name": "python",
   "nbconvert_exporter": "python",
   "pygments_lexer": "ipython3",
   "version": "3.11.9"
  }
 },
 "nbformat": 4,
 "nbformat_minor": 0
}
