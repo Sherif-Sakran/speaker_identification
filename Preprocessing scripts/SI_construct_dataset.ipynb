{
  "cells": [
    {
      "cell_type": "code",
      "execution_count": 1,
      "metadata": {
        "id": "_ESh_rN5iz2L"
      },
      "outputs": [],
      "source": [
        "from scipy.io import wavfile\n",
        "import numpy as np\n",
        "import os"
      ]
    },
    {
      "cell_type": "code",
      "execution_count": 20,
      "metadata": {},
      "outputs": [],
      "source": [
        "src_directory_path = './pipeline/2-silence_removed_dataset_wav/'\n",
        "dest_directory_path = './pipeline/3-segmented_dataset_wav/'\n",
        "google_drive = False\n",
        "if google_drive:\n",
        "    src_directory_path = '/content/drive/MyDrive/thesis_models/' + src_directory_path\n",
        "    dest_directory_path = '/content/drive/MyDrive/thesis_models/' + dest_directory_path"
      ]
    },
    {
      "cell_type": "code",
      "execution_count": 21,
      "metadata": {},
      "outputs": [
        {
          "name": "stdout",
          "output_type": "stream",
          "text": [
            "Directory './pipeline/3-segmented_dataset_wav/' already exists.\n"
          ]
        }
      ],
      "source": [
        "if not os.path.exists(dest_directory_path):\n",
        "    os.makedirs(dest_directory_path)\n",
        "    print(f\"Directory '{dest_directory_path}' created successfully.\")\n",
        "else:\n",
        "    print(f\"Directory '{dest_directory_path}' already exists.\")"
      ]
    },
    {
      "cell_type": "code",
      "execution_count": 22,
      "metadata": {
        "id": "x8Vd8PA6dnsd"
      },
      "outputs": [],
      "source": [
        "def trim_wav(input_file, output_folder, segment_name, offset=0):\n",
        "    # Read the WAV file\n",
        "    sample_rate, audio_data = wavfile.read(input_file)\n",
        "\n",
        "    # Define the duration of each segment in samples (5 seconds)\n",
        "    segment_duration = 5 * sample_rate\n",
        "\n",
        "    # Calculate the number of segments\n",
        "    num_segments = len(audio_data) // segment_duration\n",
        "    # Create the output folder if it doesn't exist\n",
        "    if not os.path.exists(output_folder):\n",
        "        os.makedirs(output_folder)\n",
        "\n",
        "    # Trim the audio into segments\n",
        "    for i in range(num_segments):\n",
        "        start_sample = i * segment_duration\n",
        "        end_sample = (i + 1) * segment_duration\n",
        "        segment = audio_data[start_sample:end_sample]\n",
        "        # Save each segment as a separate WAV file\n",
        "        output_file = os.path.join(output_folder, f\"{segment_name}_{i+1+offset}.wav\")\n",
        "        wavfile.write(output_file, sample_rate, segment)"
      ]
    },
    {
      "cell_type": "code",
      "execution_count": 23,
      "metadata": {},
      "outputs": [
        {
          "data": {
            "text/plain": [
              "['L_2.wav',\n",
              " 'L_1.wav',\n",
              " 'Renad_2.wav',\n",
              " 'Reem_2.wav',\n",
              " 'A_1.wav',\n",
              " 'S_1.wav',\n",
              " 'Sherif_1.wav',\n",
              " 'O_2.wav',\n",
              " 'Renad_1.wav',\n",
              " 'Y_2.wav',\n",
              " 'S_2.wav',\n",
              " 'A_2.wav',\n",
              " 'Sherif_2.wav',\n",
              " 'Reem_1.wav',\n",
              " 'O_1.wav',\n",
              " 'Y_1.wav']"
            ]
          },
          "execution_count": 23,
          "metadata": {},
          "output_type": "execute_result"
        }
      ],
      "source": [
        "file_names = os.listdir(src_directory_path)\n",
        "file_names"
      ]
    },
    {
      "cell_type": "code",
      "execution_count": 24,
      "metadata": {
        "id": "2cfC-M-LjIaM"
      },
      "outputs": [
        {
          "name": "stdout",
          "output_type": "stream",
          "text": [
            "Directory './pipeline/3-segmented_dataset_wav/L_2' already exists.\n",
            "Directory './pipeline/3-segmented_dataset_wav/L_1' already exists.\n",
            "Directory './pipeline/3-segmented_dataset_wav/Renad_2' already exists.\n",
            "Directory './pipeline/3-segmented_dataset_wav/Reem_2' already exists.\n",
            "Directory './pipeline/3-segmented_dataset_wav/A_1' already exists.\n",
            "Directory './pipeline/3-segmented_dataset_wav/S_1' already exists.\n",
            "Directory './pipeline/3-segmented_dataset_wav/Sherif_1' created successfully.\n",
            "Directory './pipeline/3-segmented_dataset_wav/O_2' already exists.\n",
            "Directory './pipeline/3-segmented_dataset_wav/Renad_1' already exists.\n",
            "Directory './pipeline/3-segmented_dataset_wav/Y_2' already exists.\n",
            "Directory './pipeline/3-segmented_dataset_wav/S_2' already exists.\n",
            "Directory './pipeline/3-segmented_dataset_wav/A_2' already exists.\n",
            "Directory './pipeline/3-segmented_dataset_wav/Sherif_2' created successfully.\n",
            "Directory './pipeline/3-segmented_dataset_wav/Reem_1' already exists.\n",
            "Directory './pipeline/3-segmented_dataset_wav/O_1' already exists.\n",
            "Directory './pipeline/3-segmented_dataset_wav/Y_1' already exists.\n"
          ]
        }
      ],
      "source": [
        "for i in range(len(file_names)):\n",
        "    input_wavfile = os.path.join(src_directory_path, file_names[i])\n",
        "    segment_name = file_names[i].split('.')[0].split('_')[0]\n",
        "    offset = 0 # counter starts at 1 + offset (for assembling a person's class from different recordings)\n",
        "    output_folder = dest_directory_path + file_names[i].split('.')[0]\n",
        "    output_folder\n",
        "\n",
        "    if not os.path.exists(output_folder):\n",
        "        os.makedirs(output_folder)\n",
        "        print(f\"Directory '{output_folder}' created successfully.\")\n",
        "    else:\n",
        "        print(f\"Directory '{output_folder}' already exists.\")\n",
        "\n",
        "    trim_wav(input_wavfile, output_folder, segment_name, offset)"
      ]
    },
    {
      "cell_type": "code",
      "execution_count": 19,
      "metadata": {
        "id": "5QfgY77JeWGN"
      },
      "outputs": [],
      "source": [
        "if google_drive:\n",
        "  import shutil\n",
        "  from google.colab import files\n",
        "\n",
        "  if \"MyDrive\" not in output_folder:\n",
        "    shutil.make_archive(f\"/content/{output_folder}\", 'zip', f\"/content/{output_folder}\")\n",
        "    files.download(f\"/content/{output_folder}.zip\")"
      ]
    },
    {
      "cell_type": "code",
      "execution_count": null,
      "metadata": {
        "id": "B53e4B59exXl"
      },
      "outputs": [],
      "source": []
    },
    {
      "cell_type": "code",
      "execution_count": null,
      "metadata": {},
      "outputs": [],
      "source": []
    },
    {
      "cell_type": "code",
      "execution_count": null,
      "metadata": {},
      "outputs": [],
      "source": []
    }
  ],
  "metadata": {
    "colab": {
      "provenance": []
    },
    "kernelspec": {
      "display_name": "Python 3",
      "name": "python3"
    },
    "language_info": {
      "codemirror_mode": {
        "name": "ipython",
        "version": 3
      },
      "file_extension": ".py",
      "mimetype": "text/x-python",
      "name": "python",
      "nbconvert_exporter": "python",
      "pygments_lexer": "ipython3",
      "version": "3.10.12"
    }
  },
  "nbformat": 4,
  "nbformat_minor": 0
}
