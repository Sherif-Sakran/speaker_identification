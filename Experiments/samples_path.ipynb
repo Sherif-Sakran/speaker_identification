{
 "cells": [
  {
   "cell_type": "code",
   "execution_count": 57,
   "metadata": {},
   "outputs": [],
   "source": [
    "training = True\n",
    "notNormalized = False\n",
    "preprocessed = False\n",
    "if training:\n",
    "    audios = \"Voice_Samples_Training\"\n",
    "    samples = \"Voice_Samples_Training_Path\"\n",
    "else:\n",
    "    if preprocessed:\n",
    "        audios = \"3-wav_testing_noise_preprocessed\"\n",
    "    else:\n",
    "        audios = \"2-wav_testing\"\n",
    "    samples = \"Testing_audio_Path\"\n"
   ]
  },
  {
   "cell_type": "code",
   "execution_count": 58,
   "metadata": {},
   "outputs": [],
   "source": [
    "if notNormalized:\n",
    "    audios = audios + \"_unnormalized\"\n",
    "    samples = samples + \"_unnormalized\"\n"
   ]
  },
  {
   "cell_type": "code",
   "execution_count": 59,
   "metadata": {},
   "outputs": [
    {
     "data": {
      "text/plain": [
       "['Voice_Samples_Training/Y-8/Y_5.wav',\n",
       " 'Voice_Samples_Training/Y-8/Y_4.wav',\n",
       " 'Voice_Samples_Training/Y-8/Y_10.wav',\n",
       " 'Voice_Samples_Training/Y-8/Y_2.wav',\n",
       " 'Voice_Samples_Training/Y-8/Y_9.wav',\n",
       " 'Voice_Samples_Training/Y-8/Y_7.wav',\n",
       " 'Voice_Samples_Training/Y-8/Y_8.wav',\n",
       " 'Voice_Samples_Training/Y-8/Y_6.wav',\n",
       " 'Voice_Samples_Training/Y-8/Y_3.wav',\n",
       " 'Voice_Samples_Training/Y-8/Y_1.wav',\n",
       " 'Voice_Samples_Training/Renad-5/Renad_7.wav',\n",
       " 'Voice_Samples_Training/Renad-5/Renad_3.wav',\n",
       " 'Voice_Samples_Training/Renad-5/Renad_2.wav',\n",
       " 'Voice_Samples_Training/Renad-5/Renad_5.wav',\n",
       " 'Voice_Samples_Training/Renad-5/Renad_6.wav',\n",
       " 'Voice_Samples_Training/Renad-5/Renad_1.wav',\n",
       " 'Voice_Samples_Training/Renad-5/Renad_9.wav',\n",
       " 'Voice_Samples_Training/Renad-5/Renad_4.wav',\n",
       " 'Voice_Samples_Training/Renad-5/Renad_10.wav',\n",
       " 'Voice_Samples_Training/Renad-5/Renad_8.wav',\n",
       " 'Voice_Samples_Training/L-2/L_2.wav',\n",
       " 'Voice_Samples_Training/L-2/L_4.wav',\n",
       " 'Voice_Samples_Training/L-2/L_7.wav',\n",
       " 'Voice_Samples_Training/L-2/L_8.wav',\n",
       " 'Voice_Samples_Training/L-2/L_1.wav',\n",
       " 'Voice_Samples_Training/L-2/L_6.wav',\n",
       " 'Voice_Samples_Training/L-2/L_9.wav',\n",
       " 'Voice_Samples_Training/L-2/L_3.wav',\n",
       " 'Voice_Samples_Training/L-2/L_5.wav',\n",
       " 'Voice_Samples_Training/L-2/L_10.wav',\n",
       " 'Voice_Samples_Training/A-1/A_10.wav',\n",
       " 'Voice_Samples_Training/A-1/A_6.wav',\n",
       " 'Voice_Samples_Training/A-1/A_1.wav',\n",
       " 'Voice_Samples_Training/A-1/A_5.wav',\n",
       " 'Voice_Samples_Training/A-1/A_2.wav',\n",
       " 'Voice_Samples_Training/A-1/A_7.wav',\n",
       " 'Voice_Samples_Training/A-1/A_9.wav',\n",
       " 'Voice_Samples_Training/A-1/A_4.wav',\n",
       " 'Voice_Samples_Training/A-1/A_8.wav',\n",
       " 'Voice_Samples_Training/A-1/A_3.wav',\n",
       " 'Voice_Samples_Training/Reem-4/Reem_3.wav',\n",
       " 'Voice_Samples_Training/Reem-4/Reem_8.wav',\n",
       " 'Voice_Samples_Training/Reem-4/Reem_2.wav',\n",
       " 'Voice_Samples_Training/Reem-4/Reem_5.wav',\n",
       " 'Voice_Samples_Training/Reem-4/Reem_9.wav',\n",
       " 'Voice_Samples_Training/Reem-4/Reem_6.wav',\n",
       " 'Voice_Samples_Training/Reem-4/Reem_1.wav',\n",
       " 'Voice_Samples_Training/Reem-4/Reem_4.wav',\n",
       " 'Voice_Samples_Training/Reem-4/Reem_10.wav',\n",
       " 'Voice_Samples_Training/Reem-4/Reem_7.wav',\n",
       " 'Voice_Samples_Training/S-6/S_9.wav',\n",
       " 'Voice_Samples_Training/S-6/S_1.wav',\n",
       " 'Voice_Samples_Training/S-6/S_8.wav',\n",
       " 'Voice_Samples_Training/S-6/S_2.wav',\n",
       " 'Voice_Samples_Training/S-6/S_5.wav',\n",
       " 'Voice_Samples_Training/S-6/S_3.wav',\n",
       " 'Voice_Samples_Training/S-6/S_7.wav',\n",
       " 'Voice_Samples_Training/S-6/S_10.wav',\n",
       " 'Voice_Samples_Training/S-6/S_6.wav',\n",
       " 'Voice_Samples_Training/S-6/S_4.wav',\n",
       " 'Voice_Samples_Training/O-3/O_10.wav',\n",
       " 'Voice_Samples_Training/O-3/O_4.wav',\n",
       " 'Voice_Samples_Training/O-3/O_7.wav',\n",
       " 'Voice_Samples_Training/O-3/O_3.wav',\n",
       " 'Voice_Samples_Training/O-3/O_6.wav',\n",
       " 'Voice_Samples_Training/O-3/O_2.wav',\n",
       " 'Voice_Samples_Training/O-3/O_5.wav',\n",
       " 'Voice_Samples_Training/O-3/O_9.wav',\n",
       " 'Voice_Samples_Training/O-3/O_1.wav',\n",
       " 'Voice_Samples_Training/O-3/O_8.wav']"
      ]
     },
     "execution_count": 59,
     "metadata": {},
     "output_type": "execute_result"
    }
   ],
   "source": [
    "import glob\n",
    "\n",
    "audio_paths = glob.glob(f\"{audios}/**/*.wav\", recursive=True)\n",
    "audio_paths"
   ]
  },
  {
   "cell_type": "code",
   "execution_count": 60,
   "metadata": {},
   "outputs": [
    {
     "data": {
      "text/plain": [
       "['Y-8/Y_5.wav',\n",
       " 'Y-8/Y_4.wav',\n",
       " 'Y-8/Y_10.wav',\n",
       " 'Y-8/Y_2.wav',\n",
       " 'Y-8/Y_9.wav',\n",
       " 'Y-8/Y_7.wav',\n",
       " 'Y-8/Y_8.wav',\n",
       " 'Y-8/Y_6.wav',\n",
       " 'Y-8/Y_3.wav',\n",
       " 'Y-8/Y_1.wav',\n",
       " 'Renad-5/Renad_7.wav',\n",
       " 'Renad-5/Renad_3.wav',\n",
       " 'Renad-5/Renad_2.wav',\n",
       " 'Renad-5/Renad_5.wav',\n",
       " 'Renad-5/Renad_6.wav',\n",
       " 'Renad-5/Renad_1.wav',\n",
       " 'Renad-5/Renad_9.wav',\n",
       " 'Renad-5/Renad_4.wav',\n",
       " 'Renad-5/Renad_10.wav',\n",
       " 'Renad-5/Renad_8.wav',\n",
       " 'L-2/L_2.wav',\n",
       " 'L-2/L_4.wav',\n",
       " 'L-2/L_7.wav',\n",
       " 'L-2/L_8.wav',\n",
       " 'L-2/L_1.wav',\n",
       " 'L-2/L_6.wav',\n",
       " 'L-2/L_9.wav',\n",
       " 'L-2/L_3.wav',\n",
       " 'L-2/L_5.wav',\n",
       " 'L-2/L_10.wav',\n",
       " 'A-1/A_10.wav',\n",
       " 'A-1/A_6.wav',\n",
       " 'A-1/A_1.wav',\n",
       " 'A-1/A_5.wav',\n",
       " 'A-1/A_2.wav',\n",
       " 'A-1/A_7.wav',\n",
       " 'A-1/A_9.wav',\n",
       " 'A-1/A_4.wav',\n",
       " 'A-1/A_8.wav',\n",
       " 'A-1/A_3.wav',\n",
       " 'Reem-4/Reem_3.wav',\n",
       " 'Reem-4/Reem_8.wav',\n",
       " 'Reem-4/Reem_2.wav',\n",
       " 'Reem-4/Reem_5.wav',\n",
       " 'Reem-4/Reem_9.wav',\n",
       " 'Reem-4/Reem_6.wav',\n",
       " 'Reem-4/Reem_1.wav',\n",
       " 'Reem-4/Reem_4.wav',\n",
       " 'Reem-4/Reem_10.wav',\n",
       " 'Reem-4/Reem_7.wav',\n",
       " 'S-6/S_9.wav',\n",
       " 'S-6/S_1.wav',\n",
       " 'S-6/S_8.wav',\n",
       " 'S-6/S_2.wav',\n",
       " 'S-6/S_5.wav',\n",
       " 'S-6/S_3.wav',\n",
       " 'S-6/S_7.wav',\n",
       " 'S-6/S_10.wav',\n",
       " 'S-6/S_6.wav',\n",
       " 'S-6/S_4.wav',\n",
       " 'O-3/O_10.wav',\n",
       " 'O-3/O_4.wav',\n",
       " 'O-3/O_7.wav',\n",
       " 'O-3/O_3.wav',\n",
       " 'O-3/O_6.wav',\n",
       " 'O-3/O_2.wav',\n",
       " 'O-3/O_5.wav',\n",
       " 'O-3/O_9.wav',\n",
       " 'O-3/O_1.wav',\n",
       " 'O-3/O_8.wav']"
      ]
     },
     "execution_count": 60,
     "metadata": {},
     "output_type": "execute_result"
    }
   ],
   "source": [
    "new_audio_paths = [path.replace(f\"{audios}/\", \"\") for path in audio_paths]\n",
    "new_audio_paths\n"
   ]
  },
  {
   "cell_type": "code",
   "execution_count": 61,
   "metadata": {},
   "outputs": [],
   "source": [
    "with open(f\"{samples}.txt\", \"w\") as file:\n",
    "    for path in new_audio_paths:\n",
    "        file.write(path + \"\\n\")\n"
   ]
  },
  {
   "cell_type": "code",
   "execution_count": null,
   "metadata": {},
   "outputs": [],
   "source": []
  }
 ],
 "metadata": {
  "kernelspec": {
   "display_name": "Python 3",
   "language": "python",
   "name": "python3"
  },
  "language_info": {
   "codemirror_mode": {
    "name": "ipython",
    "version": 3
   },
   "file_extension": ".py",
   "mimetype": "text/x-python",
   "name": "python",
   "nbconvert_exporter": "python",
   "pygments_lexer": "ipython3",
   "version": "3.10.12"
  }
 },
 "nbformat": 4,
 "nbformat_minor": 2
}
