{
 "cells": [
  {
   "cell_type": "code",
   "execution_count": 11,
   "metadata": {},
   "outputs": [],
   "source": [
    "import librosa\n",
    "import librosa.display\n",
    "import IPython.display as ipd\n",
    "import matplotlib.pyplot as plt\n",
    "import numpy as np"
   ]
  },
  {
   "cell_type": "code",
   "execution_count": 12,
   "metadata": {},
   "outputs": [],
   "source": [
    "audio_file = \"D:\\Courses\\\\14- Winter 24\\paper draft\\Code\\speaker_identification\\Datasets\\Environment 1\\Training\\S_1\\S_1.wav\"\n",
    "# ipd.Audio(filename=audio_file)\n",
    "\n"
   ]
  },
  {
   "cell_type": "code",
   "execution_count": 13,
   "metadata": {},
   "outputs": [
    {
     "name": "stdout",
     "output_type": "stream",
     "text": [
      "(13, 130)\n"
     ]
    }
   ],
   "source": [
    "# load audio files with librosa\n",
    "signal, sr = librosa.load(audio_file)\n",
    "mfccs = librosa.feature.mfcc(y=signal, n_mfcc=13, sr=sr)\n",
    "print(mfccs.shape)"
   ]
  },
  {
   "cell_type": "code",
   "execution_count": 14,
   "metadata": {},
   "outputs": [
    {
     "name": "stdout",
     "output_type": "stream",
     "text": [
      "(13, 130) (13, 130)\n"
     ]
    }
   ],
   "source": [
    "delta_mfccs = librosa.feature.delta(mfccs)\n",
    "delta2_mfccs = librosa.feature.delta(mfccs, order=2)\n",
    "print(delta_mfccs.shape, delta2_mfccs.shape)"
   ]
  },
  {
   "cell_type": "code",
   "execution_count": 15,
   "metadata": {},
   "outputs": [
    {
     "name": "stdout",
     "output_type": "stream",
     "text": [
      "(13, 130) (26, 130) (39, 130)\n"
     ]
    }
   ],
   "source": [
    "mfcc_delta = np.concatenate((mfccs, delta_mfccs))\n",
    "mfcc_delta_dd = np.concatenate((mfccs, delta_mfccs, delta2_mfccs))\n",
    "print(mfccs.shape, mfcc_delta.shape, mfcc_delta_dd.shape)"
   ]
  },
  {
   "cell_type": "code",
   "execution_count": null,
   "metadata": {},
   "outputs": [],
   "source": []
  },
  {
   "cell_type": "code",
   "execution_count": null,
   "metadata": {},
   "outputs": [],
   "source": []
  },
  {
   "cell_type": "code",
   "execution_count": 16,
   "metadata": {},
   "outputs": [
    {
     "name": "stdout",
     "output_type": "stream",
     "text": [
      "(13, 130)\n",
      "(13, 130) (13, 130)\n",
      "(13, 130) (26, 130) (39, 130)\n"
     ]
    }
   ],
   "source": [
    "audio_file = \"D:\\Courses\\\\14- Winter 24\\paper draft\\Code\\speaker_identification\\Datasets\\Environment 1\\Training\\S_1\\S_1.wav\"\n",
    "# ipd.Audio(filename=audio_file)\n",
    "\n",
    "\n",
    "# load audio files with librosa\n",
    "signal, sr = librosa.load(audio_file)\n",
    "mfccs = librosa.feature.mfcc(y=signal, n_mfcc=13, sr=sr)\n",
    "print(mfccs.shape)\n",
    "delta_mfccs = librosa.feature.delta(mfccs)\n",
    "delta2_mfccs = librosa.feature.delta(mfccs, order=2)\n",
    "print(delta_mfccs.shape, delta2_mfccs.shape)\n",
    "mfcc_delta = np.concatenate((mfccs, delta_mfccs))\n",
    "mfcc_delta_dd = np.concatenate((mfccs, delta_mfccs, delta2_mfccs))\n",
    "print(mfccs.shape, mfcc_delta.shape, mfcc_delta_dd.shape)"
   ]
  },
  {
   "cell_type": "code",
   "execution_count": 17,
   "metadata": {},
   "outputs": [
    {
     "name": "stdout",
     "output_type": "stream",
     "text": [
      "(130, 13) (130, 26) (130, 39)\n"
     ]
    }
   ],
   "source": [
    "mfccs = np.transpose(mfccs)\n",
    "mfcc_delta = np.transpose(mfcc_delta)\n",
    "mfcc_delta_dd = np.transpose(mfcc_delta_dd)\n",
    "print(mfccs.shape, mfcc_delta.shape, mfcc_delta_dd.shape)"
   ]
  },
  {
   "cell_type": "markdown",
   "metadata": {},
   "source": [
    "# Create spectrogram images"
   ]
  },
  {
   "cell_type": "code",
   "execution_count": 18,
   "metadata": {},
   "outputs": [],
   "source": [
    "import os\n",
    "import glob\n",
    "import pandas as pd\n",
    "import time"
   ]
  },
  {
   "cell_type": "code",
   "execution_count": 58,
   "metadata": {},
   "outputs": [],
   "source": [
    "set = \"training\"\n",
    "\n",
    "test = \"unnormalized\"\n",
    "\n",
    "mfcc_combination = \"mfcc22\"\n",
    "mfcc_coeffs = int(mfcc_combination[-2:])"
   ]
  },
  {
   "cell_type": "code",
   "execution_count": 60,
   "metadata": {},
   "outputs": [
    {
     "name": "stdout",
     "output_type": "stream",
     "text": [
      "time taken: training unnormalized mfcc13 2.32 seconds\n",
      "time taken: training unnormalized mfcc22 2.73 seconds\n",
      "time taken: training normalized mfcc13 2.29 seconds\n",
      "time taken: training normalized mfcc22 2.83 seconds\n",
      "time taken: training noise_processed mfcc13 2.32 seconds\n",
      "time taken: training noise_processed mfcc22 2.78 seconds\n",
      "time taken: testing_same unnormalized mfcc13 1.79 seconds\n",
      "time taken: testing_same unnormalized mfcc22 2.3 seconds\n",
      "time taken: testing_same normalized mfcc13 1.9 seconds\n",
      "time taken: testing_same normalized mfcc22 2.25 seconds\n",
      "time taken: testing_same noise_processed mfcc13 1.82 seconds\n",
      "time taken: testing_same noise_processed mfcc22 2.12 seconds\n",
      "time taken: testing_different unnormalized mfcc13 0.72 seconds\n",
      "time taken: testing_different unnormalized mfcc22 0.87 seconds\n",
      "time taken: testing_different normalized mfcc13 0.72 seconds\n",
      "time taken: testing_different normalized mfcc22 0.86 seconds\n",
      "time taken: testing_different noise_processed mfcc13 0.72 seconds\n",
      "time taken: testing_different noise_processed mfcc22 0.81 seconds\n"
     ]
    }
   ],
   "source": [
    "\n",
    "sets = [\"training\", \"testing_same\", \"testing_different\"]\n",
    "set = \"training\"\n",
    "\n",
    "tests = [\"unnormalized\", \"normalized\", \"noise_processed\"]\n",
    "test = \"unnormalized\"\n",
    "\n",
    "mfcc_combinations = [\"mfcc13\", \"mfcc22\"]\n",
    "\n",
    "mfcc_combination = \"mfcc22\"\n",
    "\n",
    "for set in sets:\n",
    "    for test in tests:\n",
    "        for mfcc_combination in mfcc_combinations:\n",
    "            time1 = time.time()\n",
    "            mfcc_coeffs = int(mfcc_combination[-2:])\n",
    "            src_dir = f'../dataset/{test}_dataset/{set}'\n",
    "            dest_dir = f\"{test}_{set}_{mfcc_combination}\"\n",
    "\n",
    "            subdirs = [\"Abdelrahman\", \"Omar\",  \"Reem\",  \"Renad\",  \"Sherif\",  \"Youssef\"]\n",
    "            for subdir in subdirs:\n",
    "                os.makedirs(os.path.join(dest_dir, subdir), exist_ok=False)\n",
    "\n",
    "            wav_files = glob.glob(src_dir + '/**/*.wav', recursive=True)\n",
    "            wav_files\n",
    "\n",
    "            # Process each WAV file\n",
    "            for file_path in wav_files:\n",
    "                signal, sr = librosa.load(file_path)\n",
    "                mfccs = librosa.feature.mfcc(y=signal, n_mfcc=mfcc_coeffs, sr=sr)\n",
    "                # print(mfccs.shape)\n",
    "                delta_mfccs = librosa.feature.delta(mfccs)\n",
    "                delta2_mfccs = librosa.feature.delta(mfccs, order=2)\n",
    "                # print(delta_mfccs.shape, delta2_mfccs.shape)\n",
    "                mfcc_delta = np.concatenate((mfccs, delta_mfccs))\n",
    "                mfcc_delta_dd = np.concatenate((mfccs, delta_mfccs, delta2_mfccs))\n",
    "                # print(mfccs.shape, mfcc_delta.shape, mfcc_delta_dd.shape)\n",
    "                \n",
    "                # mfccs = np.transpose(mfccs)\n",
    "                # mfcc_delta = np.transpose(mfcc_delta)\n",
    "                mfcc_delta_dd = np.transpose(mfcc_delta_dd)\n",
    "                # print(mfcc_delta_dd.shape)\n",
    "\n",
    "                # Save the mfccs with the same name\n",
    "                save_path = file_path.replace(src_dir, dest_dir)\n",
    "                save_path = save_path.replace('.wav', '.csv')\n",
    "                \n",
    "                df = pd.DataFrame(mfcc_delta_dd)\n",
    "                # Write the DataFrame to a CSV file\n",
    "                df.to_csv(save_path, index=False)\n",
    "            print(f\"time taken: {set} {test} {mfcc_combination}\", round(time.time() - time1, 2), \"seconds\")\n"
   ]
  },
  {
   "cell_type": "code",
   "execution_count": 4,
   "metadata": {},
   "outputs": [
    {
     "name": "stdout",
     "output_type": "stream",
     "text": [
      "time taken: testing_different unnormalized mfcc13 1.45 seconds\n",
      "time taken: testing_different unnormalized mfcc22 0.78 seconds\n",
      "time taken: testing_different normalized mfcc13 0.55 seconds\n",
      "time taken: testing_different normalized mfcc22 0.67 seconds\n",
      "time taken: testing_different noise_processed mfcc13 0.58 seconds\n",
      "time taken: testing_different noise_processed mfcc22 0.67 seconds\n"
     ]
    }
   ],
   "source": [
    "\n",
    "sets = [\"training\", \"testing_same\", \"testing_different\"]\n",
    "\n",
    "tests = [\"unnormalized\", \"normalized\", \"noise_processed\"]\n",
    "test = \"unnormalized\"\n",
    "\n",
    "mfcc_combinations = [\"mfcc13\", \"mfcc22\"]\n",
    "\n",
    "mfcc_combination = \"mfcc22\"\n",
    "\n",
    "set = \"testing_different\"\n",
    "for test in tests:\n",
    "    for mfcc_combination in mfcc_combinations:\n",
    "        time1 = time.time()\n",
    "        mfcc_coeffs = int(mfcc_combination[-2:])\n",
    "        src_dir = f'../dataset/{test}_dataset/{set}'\n",
    "        dest_dir = f\"{test}_{set}_{mfcc_combination}\"\n",
    "\n",
    "        subdirs = [\"Abdelrahman\", \"Omar\",  \"Reem\",  \"Renad\",  \"Sherif\",  \"Youssef\"]\n",
    "        for subdir in subdirs:\n",
    "            os.makedirs(os.path.join(dest_dir, subdir), exist_ok=False)\n",
    "\n",
    "        wav_files = glob.glob(src_dir + '/**/*.wav', recursive=True)\n",
    "        wav_files\n",
    "\n",
    "        # Process each WAV file\n",
    "        for file_path in wav_files:\n",
    "            signal, sr = librosa.load(file_path)\n",
    "            mfccs = librosa.feature.mfcc(y=signal, n_mfcc=mfcc_coeffs, sr=sr)\n",
    "            # print(mfccs.shape)\n",
    "            delta_mfccs = librosa.feature.delta(mfccs)\n",
    "            delta2_mfccs = librosa.feature.delta(mfccs, order=2)\n",
    "            # print(delta_mfccs.shape, delta2_mfccs.shape)\n",
    "            mfcc_delta = np.concatenate((mfccs, delta_mfccs))\n",
    "            mfcc_delta_dd = np.concatenate((mfccs, delta_mfccs, delta2_mfccs))\n",
    "            # print(mfccs.shape, mfcc_delta.shape, mfcc_delta_dd.shape)\n",
    "            \n",
    "            # mfccs = np.transpose(mfccs)\n",
    "            # mfcc_delta = np.transpose(mfcc_delta)\n",
    "            mfcc_delta_dd = np.transpose(mfcc_delta_dd)\n",
    "            # print(mfcc_delta_dd.shape)\n",
    "\n",
    "            # Save the mfccs with the same name\n",
    "            save_path = file_path.replace(src_dir, dest_dir)\n",
    "            save_path = save_path.replace('.wav', '.csv')\n",
    "            \n",
    "            df = pd.DataFrame(mfcc_delta_dd)\n",
    "            # Write the DataFrame to a CSV file\n",
    "            df.to_csv(save_path, index=False)\n",
    "        print(f\"time taken: {set} {test} {mfcc_combination}\", round(time.time() - time1, 2), \"seconds\")\n"
   ]
  },
  {
   "cell_type": "code",
   "execution_count": null,
   "metadata": {},
   "outputs": [],
   "source": []
  }
 ],
 "metadata": {
  "kernelspec": {
   "display_name": "Python 3",
   "language": "python",
   "name": "python3"
  },
  "language_info": {
   "codemirror_mode": {
    "name": "ipython",
    "version": 3
   },
   "file_extension": ".py",
   "mimetype": "text/x-python",
   "name": "python",
   "nbconvert_exporter": "python",
   "pygments_lexer": "ipython3",
   "version": "3.11.9"
  }
 },
 "nbformat": 4,
 "nbformat_minor": 2
}
