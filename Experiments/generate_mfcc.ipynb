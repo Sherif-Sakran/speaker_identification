{
 "cells": [
  {
   "cell_type": "code",
   "execution_count": 5,
   "metadata": {},
   "outputs": [],
   "source": [
    "from FeatureExtraction import extract_features\n",
    "from scipy.io.wavfile import read\n"
   ]
  },
  {
   "cell_type": "code",
   "execution_count": 6,
   "metadata": {},
   "outputs": [],
   "source": [
    "path = \"D:\\Courses\\\\14- Winter 24\\paper draft\\Code\\speaker_identification\\Datasets\\Environment 1\\Training\\S_1\\S_1.wav\""
   ]
  },
  {
   "cell_type": "code",
   "execution_count": 7,
   "metadata": {},
   "outputs": [
    {
     "name": "stdout",
     "output_type": "stream",
     "text": [
      "(299, 22)\n",
      "[[ 0.07403463 -0.07447925  0.01754874 ...  0.82973134 -1.75677\n",
      "   2.39872849]\n",
      " [ 0.36971928  0.20267087 -0.57962195 ... -0.30665554 -1.16447405\n",
      "   2.15934387]\n",
      " [ 0.7234901   0.33587432 -0.90857855 ... -0.59129075 -1.75413001\n",
      "   2.207415  ]\n",
      " ...\n",
      " [-0.402051    0.77935531  0.16523769 ... -1.8509664   0.27831038\n",
      "   1.27489688]\n",
      " [-0.35334675  0.73827761  0.05351355 ... -1.24078022  0.56128469\n",
      "   1.53912149]\n",
      " [-0.42498885  0.85322597 -0.04554186 ... -0.71112331  0.36387281\n",
      "   1.32998735]]\n"
     ]
    }
   ],
   "source": [
    "sr,audio = read(path)\n",
    "vector   = extract_features(audio,sr)\n",
    "print(vector.shape)\n",
    "print(vector)"
   ]
  },
  {
   "cell_type": "markdown",
   "metadata": {},
   "source": []
  },
  {
   "cell_type": "code",
   "execution_count": 8,
   "metadata": {},
   "outputs": [],
   "source": [
    "import os\n",
    "import numpy as np\n",
    "\n",
    "directory = \"Sherif_2\"\n",
    "wav_files = []\n",
    "\n",
    "# Traverse through all directories and subdirectories\n",
    "for root, dirs, files in os.walk(directory):\n",
    "    # Check each file in the current directory\n",
    "    for file in files:\n",
    "        # Check if the file has a .wav extension\n",
    "        if file.endswith('.wav'):\n",
    "            # If it does, add its full path to the list\n",
    "            wav_files.append(os.path.join(root, file))\n",
    "\n",
    "    for filename in wav_files:\n",
    "        print(os.path.join(root, filename))\n",
    "        if filename.endswith(\".wav\"):\n",
    "            file_path = filename\n",
    "            sr,audio = read(file_path)\n",
    "            vector = extract_features(audio, sr)\n",
    "            csv_filename = os.path.splitext(filename)[0] + \".csv\"\n",
    "            csv_path = csv_filename\n",
    "            np.savetxt(csv_path, vector, delimiter=\",\")\n",
    "            # os.remove(file_path)\n",
    "            print(f\"Processed {filename} and saved the features to {csv_filename}\")\n",
    "\n"
   ]
  },
  {
   "cell_type": "code",
   "execution_count": 25,
   "metadata": {},
   "outputs": [],
   "source": [
    "for file_path in wav_files:\n",
    "    os.remove(file_path)\n"
   ]
  },
  {
   "cell_type": "code",
   "execution_count": 26,
   "metadata": {},
   "outputs": [
    {
     "data": {
      "text/plain": [
       "['Sherif_2\\\\Sherif_2_1.wav',\n",
       " 'Sherif_2\\\\Sherif_2_10.wav',\n",
       " 'Sherif_2\\\\Sherif_2_11.wav',\n",
       " 'Sherif_2\\\\Sherif_2_12.wav',\n",
       " 'Sherif_2\\\\Sherif_2_13.wav',\n",
       " 'Sherif_2\\\\Sherif_2_14.wav',\n",
       " 'Sherif_2\\\\Sherif_2_15.wav',\n",
       " 'Sherif_2\\\\Sherif_2_16.wav',\n",
       " 'Sherif_2\\\\Sherif_2_17.wav',\n",
       " 'Sherif_2\\\\Sherif_2_18.wav',\n",
       " 'Sherif_2\\\\Sherif_2_19.wav',\n",
       " 'Sherif_2\\\\Sherif_2_2.wav',\n",
       " 'Sherif_2\\\\Sherif_2_20.wav',\n",
       " 'Sherif_2\\\\Sherif_2_21.wav',\n",
       " 'Sherif_2\\\\Sherif_2_3.wav',\n",
       " 'Sherif_2\\\\Sherif_2_4.wav',\n",
       " 'Sherif_2\\\\Sherif_2_5.wav',\n",
       " 'Sherif_2\\\\Sherif_2_6.wav',\n",
       " 'Sherif_2\\\\Sherif_2_7.wav',\n",
       " 'Sherif_2\\\\Sherif_2_8.wav',\n",
       " 'Sherif_2\\\\Sherif_2_9.wav']"
      ]
     },
     "execution_count": 26,
     "metadata": {},
     "output_type": "execute_result"
    }
   ],
   "source": [
    "wav_files"
   ]
  },
  {
   "cell_type": "code",
   "execution_count": 21,
   "metadata": {},
   "outputs": [],
   "source": [
    "directory = \"Silence\"\n",
    "\n",
    "for root, dirs, files in os.walk(directory):\n",
    "    for file in files:\n",
    "        print(os.path.join(root, file))"
   ]
  },
  {
   "cell_type": "code",
   "execution_count": null,
   "metadata": {},
   "outputs": [],
   "source": []
  }
 ],
 "metadata": {
  "kernelspec": {
   "display_name": "Python 3",
   "language": "python",
   "name": "python3"
  },
  "language_info": {
   "codemirror_mode": {
    "name": "ipython",
    "version": 3
   },
   "file_extension": ".py",
   "mimetype": "text/x-python",
   "name": "python",
   "nbconvert_exporter": "python",
   "pygments_lexer": "ipython3",
   "version": "3.11.9"
  }
 },
 "nbformat": 4,
 "nbformat_minor": 2
}
