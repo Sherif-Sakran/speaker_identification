{
  "cells": [
    {
      "cell_type": "code",
      "execution_count": 3,
      "metadata": {
        "id": "Cgll9g5kIGGa"
      },
      "outputs": [],
      "source": [
        "import librosa\n",
        "import librosa.display\n",
        "import IPython.display as ipd\n",
        "import matplotlib.pyplot as plt\n",
        "import numpy as np\n",
        "import os\n",
        "import pandas as pd"
      ]
    },
    {
      "cell_type": "code",
      "execution_count": 4,
      "metadata": {
        "id": "sifstqK9J0MD"
      },
      "outputs": [],
      "source": [
        "def get_mfccs_mean_vector(mfccs):\n",
        "  mfccs_mean = []\n",
        "  for mfcc_feature in mfccs:\n",
        "      mfccs_mean.append(np.mean(mfcc_feature))\n",
        "  mfccs_mean = np.array(mfccs_mean)\n",
        "  return mfccs_mean"
      ]
    },
    {
      "cell_type": "code",
      "execution_count": 14,
      "metadata": {},
      "outputs": [],
      "source": [
        "training = False\n",
        "preprocessed = True\n",
        "normalized = False"
      ]
    },
    {
      "cell_type": "code",
      "execution_count": 15,
      "metadata": {},
      "outputs": [
        {
          "data": {
            "text/plain": [
              "['Sherif', 'A', 'O', 'L', 'Y', 'S', 'Reem', 'Renad']"
            ]
          },
          "execution_count": 15,
          "metadata": {},
          "output_type": "execute_result"
        }
      ],
      "source": [
        "if not preprocessed:\n",
        "    if training and normalized:\n",
        "        segmented_dataset_path = './2-wav_training/'\n",
        "        dest_dataset_path = '3-old_mfccs_revisited' + '/normalized/training/'\n",
        "\n",
        "    elif not training and normalized:\n",
        "        segmented_dataset_path = './2-wav_testing/'\n",
        "        dest_dataset_path = '3-old_mfccs_revisited' + '/normalized/testing/'\n",
        "\n",
        "    elif training and not normalized:\n",
        "        segmented_dataset_path = './2-wav_training_unnormalized/'\n",
        "        dest_dataset_path = '3-old_mfccs_revisited' + '/unnormalized/training/'\n",
        "    elif not training and not normalized:\n",
        "        segmented_dataset_path = './2-wav_testing_unnormalized/'\n",
        "        dest_dataset_path = '3-old_mfccs_revisited' + '/unnormalized/testing/'\n",
        "else:\n",
        "    if training:\n",
        "        segmented_dataset_path = './3-wav_training_noise_preprocessed/'\n",
        "        dest_dataset_path = '3-old_mfccs_revisited' + '/preprocessed/training/'\n",
        "    else:\n",
        "        segmented_dataset_path = './3-wav_testing_noise_preprocessed/'\n",
        "        dest_dataset_path = '3-old_mfccs_revisited' + '/preprocessed/testing/'\n",
        "\n",
        "directory_names = os.listdir(segmented_dataset_path)\n",
        "directory_names"
      ]
    },
    {
      "cell_type": "code",
      "execution_count": 16,
      "metadata": {},
      "outputs": [
        {
          "name": "stdout",
          "output_type": "stream",
          "text": [
            "Directory '3-old_mfccs_revisited/preprocessed/testing/' created successfully.\n"
          ]
        }
      ],
      "source": [
        "if not os.path.exists(dest_dataset_path):\n",
        "    os.makedirs(dest_dataset_path)\n",
        "    print(f\"Directory '{dest_dataset_path}' created successfully.\")\n",
        "else:\n",
        "    print(f\"Directory '{dest_dataset_path}' already exists.\")"
      ]
    },
    {
      "cell_type": "code",
      "execution_count": 17,
      "metadata": {
        "id": "ymrU_eVbL0DS"
      },
      "outputs": [
        {
          "name": "stdout",
          "output_type": "stream",
          "text": [
            "Directory '3-old_mfccs_revisited/preprocessed/testing/Sherif/' created successfully.\n",
            "Directory '3-old_mfccs_revisited/preprocessed/testing/A/' created successfully.\n",
            "Directory '3-old_mfccs_revisited/preprocessed/testing/O/' created successfully.\n",
            "Directory '3-old_mfccs_revisited/preprocessed/testing/L/' created successfully.\n",
            "Directory '3-old_mfccs_revisited/preprocessed/testing/Y/' created successfully.\n",
            "Directory '3-old_mfccs_revisited/preprocessed/testing/S/' created successfully.\n",
            "Directory '3-old_mfccs_revisited/preprocessed/testing/Reem/' created successfully.\n",
            "Directory '3-old_mfccs_revisited/preprocessed/testing/Renad/' created successfully.\n"
          ]
        },
        {
          "data": {
            "text/html": [
              "<div>\n",
              "<style scoped>\n",
              "    .dataframe tbody tr th:only-of-type {\n",
              "        vertical-align: middle;\n",
              "    }\n",
              "\n",
              "    .dataframe tbody tr th {\n",
              "        vertical-align: top;\n",
              "    }\n",
              "\n",
              "    .dataframe thead th {\n",
              "        text-align: right;\n",
              "    }\n",
              "</style>\n",
              "<table border=\"1\" class=\"dataframe\">\n",
              "  <thead>\n",
              "    <tr style=\"text-align: right;\">\n",
              "      <th></th>\n",
              "      <th>0</th>\n",
              "      <th>1</th>\n",
              "      <th>2</th>\n",
              "      <th>3</th>\n",
              "      <th>4</th>\n",
              "      <th>5</th>\n",
              "      <th>6</th>\n",
              "      <th>7</th>\n",
              "      <th>8</th>\n",
              "      <th>9</th>\n",
              "      <th>...</th>\n",
              "      <th>206</th>\n",
              "      <th>207</th>\n",
              "      <th>208</th>\n",
              "      <th>209</th>\n",
              "      <th>210</th>\n",
              "      <th>211</th>\n",
              "      <th>212</th>\n",
              "      <th>213</th>\n",
              "      <th>214</th>\n",
              "      <th>215</th>\n",
              "    </tr>\n",
              "  </thead>\n",
              "  <tbody>\n",
              "    <tr>\n",
              "      <th>0</th>\n",
              "      <td>-585.962800</td>\n",
              "      <td>-562.138100</td>\n",
              "      <td>-563.261700</td>\n",
              "      <td>-577.955440</td>\n",
              "      <td>-587.647100</td>\n",
              "      <td>-602.067500</td>\n",
              "      <td>-626.339600</td>\n",
              "      <td>-611.146100</td>\n",
              "      <td>-569.727800</td>\n",
              "      <td>-535.477050</td>\n",
              "      <td>...</td>\n",
              "      <td>-505.399380</td>\n",
              "      <td>-544.570400</td>\n",
              "      <td>-572.733460</td>\n",
              "      <td>-606.434600</td>\n",
              "      <td>-634.522000</td>\n",
              "      <td>-627.596560</td>\n",
              "      <td>-534.304800</td>\n",
              "      <td>-473.610660</td>\n",
              "      <td>-447.699920</td>\n",
              "      <td>-416.227450</td>\n",
              "    </tr>\n",
              "    <tr>\n",
              "      <th>1</th>\n",
              "      <td>19.033325</td>\n",
              "      <td>-9.480791</td>\n",
              "      <td>-38.449380</td>\n",
              "      <td>-61.776863</td>\n",
              "      <td>-60.180405</td>\n",
              "      <td>-42.689680</td>\n",
              "      <td>-13.022606</td>\n",
              "      <td>-8.007019</td>\n",
              "      <td>-21.154402</td>\n",
              "      <td>-35.049656</td>\n",
              "      <td>...</td>\n",
              "      <td>136.811250</td>\n",
              "      <td>114.415344</td>\n",
              "      <td>85.953610</td>\n",
              "      <td>41.566658</td>\n",
              "      <td>3.492505</td>\n",
              "      <td>12.693789</td>\n",
              "      <td>127.969955</td>\n",
              "      <td>190.666300</td>\n",
              "      <td>209.685560</td>\n",
              "      <td>201.252410</td>\n",
              "    </tr>\n",
              "    <tr>\n",
              "      <th>2</th>\n",
              "      <td>46.507896</td>\n",
              "      <td>62.119537</td>\n",
              "      <td>57.447342</td>\n",
              "      <td>41.431824</td>\n",
              "      <td>34.535630</td>\n",
              "      <td>24.726906</td>\n",
              "      <td>7.562081</td>\n",
              "      <td>-28.137032</td>\n",
              "      <td>-71.169890</td>\n",
              "      <td>-101.001940</td>\n",
              "      <td>...</td>\n",
              "      <td>62.704666</td>\n",
              "      <td>82.916550</td>\n",
              "      <td>72.087140</td>\n",
              "      <td>36.814156</td>\n",
              "      <td>3.426649</td>\n",
              "      <td>10.943968</td>\n",
              "      <td>83.961580</td>\n",
              "      <td>95.491320</td>\n",
              "      <td>81.508804</td>\n",
              "      <td>42.440430</td>\n",
              "    </tr>\n",
              "    <tr>\n",
              "      <th>3</th>\n",
              "      <td>23.965515</td>\n",
              "      <td>27.530290</td>\n",
              "      <td>19.452530</td>\n",
              "      <td>2.966575</td>\n",
              "      <td>-1.325888</td>\n",
              "      <td>-1.315569</td>\n",
              "      <td>-0.556811</td>\n",
              "      <td>16.705252</td>\n",
              "      <td>40.247437</td>\n",
              "      <td>58.965992</td>\n",
              "      <td>...</td>\n",
              "      <td>53.688366</td>\n",
              "      <td>59.699990</td>\n",
              "      <td>51.960995</td>\n",
              "      <td>29.698738</td>\n",
              "      <td>3.318669</td>\n",
              "      <td>8.325138</td>\n",
              "      <td>32.095184</td>\n",
              "      <td>3.202286</td>\n",
              "      <td>-23.217090</td>\n",
              "      <td>-13.915319</td>\n",
              "    </tr>\n",
              "    <tr>\n",
              "      <th>4</th>\n",
              "      <td>-4.134559</td>\n",
              "      <td>-18.265705</td>\n",
              "      <td>-26.489513</td>\n",
              "      <td>-33.345848</td>\n",
              "      <td>-28.975079</td>\n",
              "      <td>-20.301952</td>\n",
              "      <td>-5.830647</td>\n",
              "      <td>9.763091</td>\n",
              "      <td>25.027330</td>\n",
              "      <td>31.063477</td>\n",
              "      <td>...</td>\n",
              "      <td>63.034386</td>\n",
              "      <td>39.099277</td>\n",
              "      <td>29.317923</td>\n",
              "      <td>21.269451</td>\n",
              "      <td>3.171178</td>\n",
              "      <td>5.221852</td>\n",
              "      <td>-8.345051</td>\n",
              "      <td>-40.728416</td>\n",
              "      <td>-48.492653</td>\n",
              "      <td>-21.302140</td>\n",
              "    </tr>\n",
              "    <tr>\n",
              "      <th>5</th>\n",
              "      <td>15.425129</td>\n",
              "      <td>41.542904</td>\n",
              "      <td>54.986797</td>\n",
              "      <td>52.579094</td>\n",
              "      <td>47.718746</td>\n",
              "      <td>34.025760</td>\n",
              "      <td>9.946924</td>\n",
              "      <td>-9.952173</td>\n",
              "      <td>-19.109121</td>\n",
              "      <td>-18.983418</td>\n",
              "      <td>...</td>\n",
              "      <td>9.498951</td>\n",
              "      <td>6.182805</td>\n",
              "      <td>8.124111</td>\n",
              "      <td>12.710657</td>\n",
              "      <td>2.987745</td>\n",
              "      <td>2.063837</td>\n",
              "      <td>-27.534412</td>\n",
              "      <td>-32.967500</td>\n",
              "      <td>-14.941055</td>\n",
              "      <td>-3.186665</td>\n",
              "    </tr>\n",
              "    <tr>\n",
              "      <th>6</th>\n",
              "      <td>-34.334923</td>\n",
              "      <td>-53.524185</td>\n",
              "      <td>-57.643856</td>\n",
              "      <td>-57.977990</td>\n",
              "      <td>-51.013412</td>\n",
              "      <td>-36.929300</td>\n",
              "      <td>-11.096566</td>\n",
              "      <td>3.945166</td>\n",
              "      <td>1.373490</td>\n",
              "      <td>-5.882264</td>\n",
              "      <td>...</td>\n",
              "      <td>-62.841827</td>\n",
              "      <td>-26.838402</td>\n",
              "      <td>-8.304610</td>\n",
              "      <td>5.129404</td>\n",
              "      <td>2.772775</td>\n",
              "      <td>-0.751817</td>\n",
              "      <td>-28.218601</td>\n",
              "      <td>-5.663186</td>\n",
              "      <td>17.766090</td>\n",
              "      <td>13.136419</td>\n",
              "    </tr>\n",
              "    <tr>\n",
              "      <th>7</th>\n",
              "      <td>-8.327235</td>\n",
              "      <td>8.078411</td>\n",
              "      <td>26.287445</td>\n",
              "      <td>38.197800</td>\n",
              "      <td>40.623840</td>\n",
              "      <td>29.969364</td>\n",
              "      <td>9.542120</td>\n",
              "      <td>-6.852665</td>\n",
              "      <td>-15.558775</td>\n",
              "      <td>-20.443916</td>\n",
              "      <td>...</td>\n",
              "      <td>-60.935333</td>\n",
              "      <td>-35.269463</td>\n",
              "      <td>-17.978794</td>\n",
              "      <td>-0.633591</td>\n",
              "      <td>2.531410</td>\n",
              "      <td>-2.925913</td>\n",
              "      <td>-21.003191</td>\n",
              "      <td>6.479595</td>\n",
              "      <td>14.159008</td>\n",
              "      <td>2.587192</td>\n",
              "    </tr>\n",
              "    <tr>\n",
              "      <th>8</th>\n",
              "      <td>-31.628483</td>\n",
              "      <td>-34.746025</td>\n",
              "      <td>-29.706573</td>\n",
              "      <td>-25.283083</td>\n",
              "      <td>-22.615562</td>\n",
              "      <td>-17.182339</td>\n",
              "      <td>-6.222688</td>\n",
              "      <td>-3.543546</td>\n",
              "      <td>1.803018</td>\n",
              "      <td>11.645988</td>\n",
              "      <td>...</td>\n",
              "      <td>-7.008147</td>\n",
              "      <td>-22.178646</td>\n",
              "      <td>-20.556091</td>\n",
              "      <td>-4.132791</td>\n",
              "      <td>2.269375</td>\n",
              "      <td>-4.296707</td>\n",
              "      <td>-15.962232</td>\n",
              "      <td>-5.861528</td>\n",
              "      <td>-13.602463</td>\n",
              "      <td>-18.320297</td>\n",
              "    </tr>\n",
              "    <tr>\n",
              "      <th>9</th>\n",
              "      <td>-23.869186</td>\n",
              "      <td>-26.663883</td>\n",
              "      <td>-17.974990</td>\n",
              "      <td>-2.193532</td>\n",
              "      <td>4.472020</td>\n",
              "      <td>3.796255</td>\n",
              "      <td>2.382482</td>\n",
              "      <td>19.961180</td>\n",
              "      <td>33.876380</td>\n",
              "      <td>31.882630</td>\n",
              "      <td>...</td>\n",
              "      <td>7.587066</td>\n",
              "      <td>-12.554109</td>\n",
              "      <td>-17.247670</td>\n",
              "      <td>-5.363746</td>\n",
              "      <td>1.992846</td>\n",
              "      <td>-4.847892</td>\n",
              "      <td>-16.568485</td>\n",
              "      <td>-25.974531</td>\n",
              "      <td>-32.892593</td>\n",
              "      <td>-32.017952</td>\n",
              "    </tr>\n",
              "    <tr>\n",
              "      <th>10</th>\n",
              "      <td>-16.386127</td>\n",
              "      <td>-12.205336</td>\n",
              "      <td>-3.466731</td>\n",
              "      <td>6.730534</td>\n",
              "      <td>7.997142</td>\n",
              "      <td>5.897277</td>\n",
              "      <td>0.811098</td>\n",
              "      <td>-7.566401</td>\n",
              "      <td>-16.240665</td>\n",
              "      <td>-16.095194</td>\n",
              "      <td>...</td>\n",
              "      <td>-18.785313</td>\n",
              "      <td>-12.413683</td>\n",
              "      <td>-10.360923</td>\n",
              "      <td>-4.721685</td>\n",
              "      <td>1.708241</td>\n",
              "      <td>-4.686812</td>\n",
              "      <td>-19.483395</td>\n",
              "      <td>-32.728874</td>\n",
              "      <td>-27.784195</td>\n",
              "      <td>-26.076176</td>\n",
              "    </tr>\n",
              "    <tr>\n",
              "      <th>11</th>\n",
              "      <td>-17.408580</td>\n",
              "      <td>-22.793255</td>\n",
              "      <td>-23.468523</td>\n",
              "      <td>-14.530863</td>\n",
              "      <td>-12.649845</td>\n",
              "      <td>-10.027787</td>\n",
              "      <td>-2.635680</td>\n",
              "      <td>-19.542927</td>\n",
              "      <td>-29.178883</td>\n",
              "      <td>-29.917517</td>\n",
              "      <td>...</td>\n",
              "      <td>-14.162136</td>\n",
              "      <td>-5.004104</td>\n",
              "      <td>-2.620780</td>\n",
              "      <td>-2.886158</td>\n",
              "      <td>1.422089</td>\n",
              "      <td>-4.002076</td>\n",
              "      <td>-19.165688</td>\n",
              "      <td>-20.883312</td>\n",
              "      <td>-8.670429</td>\n",
              "      <td>-9.611744</td>\n",
              "    </tr>\n",
              "    <tr>\n",
              "      <th>12</th>\n",
              "      <td>-4.133090</td>\n",
              "      <td>-7.862309</td>\n",
              "      <td>-4.580574</td>\n",
              "      <td>8.299723</td>\n",
              "      <td>11.179970</td>\n",
              "      <td>9.439893</td>\n",
              "      <td>3.068511</td>\n",
              "      <td>17.203138</td>\n",
              "      <td>22.646542</td>\n",
              "      <td>18.719126</td>\n",
              "      <td>...</td>\n",
              "      <td>26.200150</td>\n",
              "      <td>12.382463</td>\n",
              "      <td>3.540041</td>\n",
              "      <td>-0.660426</td>\n",
              "      <td>1.140840</td>\n",
              "      <td>-3.013056</td>\n",
              "      <td>-13.080164</td>\n",
              "      <td>-2.340148</td>\n",
              "      <td>5.350846</td>\n",
              "      <td>1.811340</td>\n",
              "    </tr>\n",
              "    <tr>\n",
              "      <th>13</th>\n",
              "      <td>-5.281960</td>\n",
              "      <td>-4.338740</td>\n",
              "      <td>-6.316465</td>\n",
              "      <td>-3.905384</td>\n",
              "      <td>-7.589714</td>\n",
              "      <td>-6.796517</td>\n",
              "      <td>-2.753069</td>\n",
              "      <td>7.667313</td>\n",
              "      <td>12.339207</td>\n",
              "      <td>15.615622</td>\n",
              "      <td>...</td>\n",
              "      <td>36.627262</td>\n",
              "      <td>19.361343</td>\n",
              "      <td>6.537075</td>\n",
              "      <td>1.198832</td>\n",
              "      <td>0.870685</td>\n",
              "      <td>-1.924297</td>\n",
              "      <td>-3.606645</td>\n",
              "      <td>8.457466</td>\n",
              "      <td>6.312183</td>\n",
              "      <td>2.532294</td>\n",
              "    </tr>\n",
              "    <tr>\n",
              "      <th>14</th>\n",
              "      <td>6.217246</td>\n",
              "      <td>0.326920</td>\n",
              "      <td>-2.771613</td>\n",
              "      <td>5.300098</td>\n",
              "      <td>5.833445</td>\n",
              "      <td>5.003300</td>\n",
              "      <td>2.598264</td>\n",
              "      <td>-15.770900</td>\n",
              "      <td>-13.712596</td>\n",
              "      <td>-11.803902</td>\n",
              "      <td>...</td>\n",
              "      <td>2.747930</td>\n",
              "      <td>6.990318</td>\n",
              "      <td>5.907208</td>\n",
              "      <td>2.125909</td>\n",
              "      <td>0.617414</td>\n",
              "      <td>-0.894594</td>\n",
              "      <td>4.161994</td>\n",
              "      <td>7.836891</td>\n",
              "      <td>0.882736</td>\n",
              "      <td>-2.967671</td>\n",
              "    </tr>\n",
              "    <tr>\n",
              "      <th>15</th>\n",
              "      <td>-6.282021</td>\n",
              "      <td>-9.050435</td>\n",
              "      <td>-8.296444</td>\n",
              "      <td>-5.599406</td>\n",
              "      <td>-7.795626</td>\n",
              "      <td>-5.721541</td>\n",
              "      <td>-3.186037</td>\n",
              "      <td>4.735328</td>\n",
              "      <td>0.189277</td>\n",
              "      <td>1.075175</td>\n",
              "      <td>...</td>\n",
              "      <td>-20.679976</td>\n",
              "      <td>-6.804125</td>\n",
              "      <td>2.256323</td>\n",
              "      <td>1.837563</td>\n",
              "      <td>0.386240</td>\n",
              "      <td>-0.024729</td>\n",
              "      <td>6.370830</td>\n",
              "      <td>2.744882</td>\n",
              "      <td>-0.681341</td>\n",
              "      <td>-4.757527</td>\n",
              "    </tr>\n",
              "    <tr>\n",
              "      <th>16</th>\n",
              "      <td>11.987261</td>\n",
              "      <td>17.525684</td>\n",
              "      <td>15.876492</td>\n",
              "      <td>17.105135</td>\n",
              "      <td>12.513039</td>\n",
              "      <td>8.637966</td>\n",
              "      <td>4.361733</td>\n",
              "      <td>4.208187</td>\n",
              "      <td>-2.499460</td>\n",
              "      <td>-7.786168</td>\n",
              "      <td>...</td>\n",
              "      <td>-10.303455</td>\n",
              "      <td>-7.579680</td>\n",
              "      <td>-3.068802</td>\n",
              "      <td>0.357637</td>\n",
              "      <td>0.181700</td>\n",
              "      <td>0.637684</td>\n",
              "      <td>2.863848</td>\n",
              "      <td>0.596950</td>\n",
              "      <td>3.901610</td>\n",
              "      <td>-1.245434</td>\n",
              "    </tr>\n",
              "    <tr>\n",
              "      <th>17</th>\n",
              "      <td>-12.537056</td>\n",
              "      <td>-24.550950</td>\n",
              "      <td>-23.350960</td>\n",
              "      <td>-18.818974</td>\n",
              "      <td>-16.901924</td>\n",
              "      <td>-11.770187</td>\n",
              "      <td>-5.306092</td>\n",
              "      <td>-8.173281</td>\n",
              "      <td>-0.856839</td>\n",
              "      <td>0.214235</td>\n",
              "      <td>...</td>\n",
              "      <td>-2.104041</td>\n",
              "      <td>-5.733130</td>\n",
              "      <td>-8.463902</td>\n",
              "      <td>-2.023358</td>\n",
              "      <td>0.007481</td>\n",
              "      <td>1.082549</td>\n",
              "      <td>-3.373475</td>\n",
              "      <td>1.620899</td>\n",
              "      <td>8.062174</td>\n",
              "      <td>3.503125</td>\n",
              "    </tr>\n",
              "    <tr>\n",
              "      <th>18</th>\n",
              "      <td>2.940817</td>\n",
              "      <td>15.427831</td>\n",
              "      <td>20.909424</td>\n",
              "      <td>21.849318</td>\n",
              "      <td>17.526854</td>\n",
              "      <td>12.595981</td>\n",
              "      <td>5.057426</td>\n",
              "      <td>8.126092</td>\n",
              "      <td>11.965432</td>\n",
              "      <td>15.247013</td>\n",
              "      <td>...</td>\n",
              "      <td>-15.323250</td>\n",
              "      <td>-13.282169</td>\n",
              "      <td>-12.553967</td>\n",
              "      <td>-4.838513</td>\n",
              "      <td>-0.133577</td>\n",
              "      <td>1.319088</td>\n",
              "      <td>-8.758278</td>\n",
              "      <td>0.905382</td>\n",
              "      <td>5.255199</td>\n",
              "      <td>4.175241</td>\n",
              "    </tr>\n",
              "    <tr>\n",
              "      <th>19</th>\n",
              "      <td>-6.243233</td>\n",
              "      <td>-16.165468</td>\n",
              "      <td>-17.113450</td>\n",
              "      <td>-14.389695</td>\n",
              "      <td>-12.488616</td>\n",
              "      <td>-9.427256</td>\n",
              "      <td>-3.129021</td>\n",
              "      <td>2.262719</td>\n",
              "      <td>-2.546384</td>\n",
              "      <td>-5.401182</td>\n",
              "      <td>...</td>\n",
              "      <td>-23.738865</td>\n",
              "      <td>-20.667625</td>\n",
              "      <td>-14.545958</td>\n",
              "      <td>-7.560056</td>\n",
              "      <td>-0.239634</td>\n",
              "      <td>1.362146</td>\n",
              "      <td>-11.334299</td>\n",
              "      <td>-4.197480</td>\n",
              "      <td>-3.151888</td>\n",
              "      <td>0.459571</td>\n",
              "    </tr>\n",
              "    <tr>\n",
              "      <th>20</th>\n",
              "      <td>-16.265965</td>\n",
              "      <td>-13.274126</td>\n",
              "      <td>-4.483715</td>\n",
              "      <td>0.804265</td>\n",
              "      <td>2.507921</td>\n",
              "      <td>2.364847</td>\n",
              "      <td>-0.179821</td>\n",
              "      <td>-12.514548</td>\n",
              "      <td>-12.707257</td>\n",
              "      <td>-7.866244</td>\n",
              "      <td>...</td>\n",
              "      <td>-11.395979</td>\n",
              "      <td>-14.539524</td>\n",
              "      <td>-14.362636</td>\n",
              "      <td>-9.712934</td>\n",
              "      <td>-0.309833</td>\n",
              "      <td>1.227215</td>\n",
              "      <td>-11.158800</td>\n",
              "      <td>-10.469761</td>\n",
              "      <td>-9.689305</td>\n",
              "      <td>-3.472354</td>\n",
              "    </tr>\n",
              "    <tr>\n",
              "      <th>21</th>\n",
              "      <td>8.315091</td>\n",
              "      <td>10.335310</td>\n",
              "      <td>8.170924</td>\n",
              "      <td>9.104185</td>\n",
              "      <td>9.286678</td>\n",
              "      <td>6.608340</td>\n",
              "      <td>3.928283</td>\n",
              "      <td>5.579520</td>\n",
              "      <td>2.920184</td>\n",
              "      <td>-2.915076</td>\n",
              "      <td>...</td>\n",
              "      <td>2.325493</td>\n",
              "      <td>-2.259627</td>\n",
              "      <td>-12.545136</td>\n",
              "      <td>-10.962650</td>\n",
              "      <td>-0.344340</td>\n",
              "      <td>0.933885</td>\n",
              "      <td>-9.174564</td>\n",
              "      <td>-12.433996</td>\n",
              "      <td>-9.332591</td>\n",
              "      <td>-4.949707</td>\n",
              "    </tr>\n",
              "  </tbody>\n",
              "</table>\n",
              "<p>22 rows × 216 columns</p>\n",
              "</div>"
            ],
            "text/plain": [
              "             0           1           2           3           4           5  \\\n",
              "0  -585.962800 -562.138100 -563.261700 -577.955440 -587.647100 -602.067500   \n",
              "1    19.033325   -9.480791  -38.449380  -61.776863  -60.180405  -42.689680   \n",
              "2    46.507896   62.119537   57.447342   41.431824   34.535630   24.726906   \n",
              "3    23.965515   27.530290   19.452530    2.966575   -1.325888   -1.315569   \n",
              "4    -4.134559  -18.265705  -26.489513  -33.345848  -28.975079  -20.301952   \n",
              "5    15.425129   41.542904   54.986797   52.579094   47.718746   34.025760   \n",
              "6   -34.334923  -53.524185  -57.643856  -57.977990  -51.013412  -36.929300   \n",
              "7    -8.327235    8.078411   26.287445   38.197800   40.623840   29.969364   \n",
              "8   -31.628483  -34.746025  -29.706573  -25.283083  -22.615562  -17.182339   \n",
              "9   -23.869186  -26.663883  -17.974990   -2.193532    4.472020    3.796255   \n",
              "10  -16.386127  -12.205336   -3.466731    6.730534    7.997142    5.897277   \n",
              "11  -17.408580  -22.793255  -23.468523  -14.530863  -12.649845  -10.027787   \n",
              "12   -4.133090   -7.862309   -4.580574    8.299723   11.179970    9.439893   \n",
              "13   -5.281960   -4.338740   -6.316465   -3.905384   -7.589714   -6.796517   \n",
              "14    6.217246    0.326920   -2.771613    5.300098    5.833445    5.003300   \n",
              "15   -6.282021   -9.050435   -8.296444   -5.599406   -7.795626   -5.721541   \n",
              "16   11.987261   17.525684   15.876492   17.105135   12.513039    8.637966   \n",
              "17  -12.537056  -24.550950  -23.350960  -18.818974  -16.901924  -11.770187   \n",
              "18    2.940817   15.427831   20.909424   21.849318   17.526854   12.595981   \n",
              "19   -6.243233  -16.165468  -17.113450  -14.389695  -12.488616   -9.427256   \n",
              "20  -16.265965  -13.274126   -4.483715    0.804265    2.507921    2.364847   \n",
              "21    8.315091   10.335310    8.170924    9.104185    9.286678    6.608340   \n",
              "\n",
              "             6           7           8           9  ...         206  \\\n",
              "0  -626.339600 -611.146100 -569.727800 -535.477050  ... -505.399380   \n",
              "1   -13.022606   -8.007019  -21.154402  -35.049656  ...  136.811250   \n",
              "2     7.562081  -28.137032  -71.169890 -101.001940  ...   62.704666   \n",
              "3    -0.556811   16.705252   40.247437   58.965992  ...   53.688366   \n",
              "4    -5.830647    9.763091   25.027330   31.063477  ...   63.034386   \n",
              "5     9.946924   -9.952173  -19.109121  -18.983418  ...    9.498951   \n",
              "6   -11.096566    3.945166    1.373490   -5.882264  ...  -62.841827   \n",
              "7     9.542120   -6.852665  -15.558775  -20.443916  ...  -60.935333   \n",
              "8    -6.222688   -3.543546    1.803018   11.645988  ...   -7.008147   \n",
              "9     2.382482   19.961180   33.876380   31.882630  ...    7.587066   \n",
              "10    0.811098   -7.566401  -16.240665  -16.095194  ...  -18.785313   \n",
              "11   -2.635680  -19.542927  -29.178883  -29.917517  ...  -14.162136   \n",
              "12    3.068511   17.203138   22.646542   18.719126  ...   26.200150   \n",
              "13   -2.753069    7.667313   12.339207   15.615622  ...   36.627262   \n",
              "14    2.598264  -15.770900  -13.712596  -11.803902  ...    2.747930   \n",
              "15   -3.186037    4.735328    0.189277    1.075175  ...  -20.679976   \n",
              "16    4.361733    4.208187   -2.499460   -7.786168  ...  -10.303455   \n",
              "17   -5.306092   -8.173281   -0.856839    0.214235  ...   -2.104041   \n",
              "18    5.057426    8.126092   11.965432   15.247013  ...  -15.323250   \n",
              "19   -3.129021    2.262719   -2.546384   -5.401182  ...  -23.738865   \n",
              "20   -0.179821  -12.514548  -12.707257   -7.866244  ...  -11.395979   \n",
              "21    3.928283    5.579520    2.920184   -2.915076  ...    2.325493   \n",
              "\n",
              "           207         208         209         210         211         212  \\\n",
              "0  -544.570400 -572.733460 -606.434600 -634.522000 -627.596560 -534.304800   \n",
              "1   114.415344   85.953610   41.566658    3.492505   12.693789  127.969955   \n",
              "2    82.916550   72.087140   36.814156    3.426649   10.943968   83.961580   \n",
              "3    59.699990   51.960995   29.698738    3.318669    8.325138   32.095184   \n",
              "4    39.099277   29.317923   21.269451    3.171178    5.221852   -8.345051   \n",
              "5     6.182805    8.124111   12.710657    2.987745    2.063837  -27.534412   \n",
              "6   -26.838402   -8.304610    5.129404    2.772775   -0.751817  -28.218601   \n",
              "7   -35.269463  -17.978794   -0.633591    2.531410   -2.925913  -21.003191   \n",
              "8   -22.178646  -20.556091   -4.132791    2.269375   -4.296707  -15.962232   \n",
              "9   -12.554109  -17.247670   -5.363746    1.992846   -4.847892  -16.568485   \n",
              "10  -12.413683  -10.360923   -4.721685    1.708241   -4.686812  -19.483395   \n",
              "11   -5.004104   -2.620780   -2.886158    1.422089   -4.002076  -19.165688   \n",
              "12   12.382463    3.540041   -0.660426    1.140840   -3.013056  -13.080164   \n",
              "13   19.361343    6.537075    1.198832    0.870685   -1.924297   -3.606645   \n",
              "14    6.990318    5.907208    2.125909    0.617414   -0.894594    4.161994   \n",
              "15   -6.804125    2.256323    1.837563    0.386240   -0.024729    6.370830   \n",
              "16   -7.579680   -3.068802    0.357637    0.181700    0.637684    2.863848   \n",
              "17   -5.733130   -8.463902   -2.023358    0.007481    1.082549   -3.373475   \n",
              "18  -13.282169  -12.553967   -4.838513   -0.133577    1.319088   -8.758278   \n",
              "19  -20.667625  -14.545958   -7.560056   -0.239634    1.362146  -11.334299   \n",
              "20  -14.539524  -14.362636   -9.712934   -0.309833    1.227215  -11.158800   \n",
              "21   -2.259627  -12.545136  -10.962650   -0.344340    0.933885   -9.174564   \n",
              "\n",
              "           213         214         215  \n",
              "0  -473.610660 -447.699920 -416.227450  \n",
              "1   190.666300  209.685560  201.252410  \n",
              "2    95.491320   81.508804   42.440430  \n",
              "3     3.202286  -23.217090  -13.915319  \n",
              "4   -40.728416  -48.492653  -21.302140  \n",
              "5   -32.967500  -14.941055   -3.186665  \n",
              "6    -5.663186   17.766090   13.136419  \n",
              "7     6.479595   14.159008    2.587192  \n",
              "8    -5.861528  -13.602463  -18.320297  \n",
              "9   -25.974531  -32.892593  -32.017952  \n",
              "10  -32.728874  -27.784195  -26.076176  \n",
              "11  -20.883312   -8.670429   -9.611744  \n",
              "12   -2.340148    5.350846    1.811340  \n",
              "13    8.457466    6.312183    2.532294  \n",
              "14    7.836891    0.882736   -2.967671  \n",
              "15    2.744882   -0.681341   -4.757527  \n",
              "16    0.596950    3.901610   -1.245434  \n",
              "17    1.620899    8.062174    3.503125  \n",
              "18    0.905382    5.255199    4.175241  \n",
              "19   -4.197480   -3.151888    0.459571  \n",
              "20  -10.469761   -9.689305   -3.472354  \n",
              "21  -12.433996   -9.332591   -4.949707  \n",
              "\n",
              "[22 rows x 216 columns]"
            ]
          },
          "execution_count": 17,
          "metadata": {},
          "output_type": "execute_result"
        }
      ],
      "source": [
        "for i in range(len(directory_names)):\n",
        "  directory_name = directory_names[i] # to change for each directory in the dataset\n",
        "\n",
        "  src_directory_path = f'{segmented_dataset_path}{directory_name}/'\n",
        "  dest_directory_path = f'{dest_dataset_path}{directory_name}/'\n",
        "\n",
        "  google_drive = False\n",
        "  if google_drive:\n",
        "      src_directory_path = '/content/drive/MyDrive/thesis_models/' + src_directory_path\n",
        "      dest_dataset_path = '/content/drive/MyDrive/thesis_models/' + dest_dataset_path\n",
        "      dest_directory_path = '/content/drive/MyDrive/thesis_models/' + dest_directory_path\n",
        "  if not os.path.exists(dest_directory_path):\n",
        "      os.makedirs(dest_directory_path)\n",
        "      print(f\"Directory '{dest_directory_path}' created successfully.\")\n",
        "  else:\n",
        "      print(f\"Directory '{dest_directory_path}' already exists.\")\n",
        "  directory_path = src_directory_path\n",
        "  output_path = dest_directory_path\n",
        "  output_path\n",
        "  file_names = os.listdir(directory_path)\n",
        "  file_names\n",
        "  # # columns = [f'MFCC {i}' for i in range(1, 21)]\n",
        "  # # columns.append('Speaker')\n",
        "  # # df = pd.DataFrame(columns=columns)\n",
        "  # vectors = []\n",
        "  # i = 1\n",
        "  # for file_name in file_names:\n",
        "  #   if file_name.split('.')[-1] != \"m4a\":\n",
        "  #     continue\n",
        "  #   file_path = directory_path + file_name\n",
        "  #   signal, sr = librosa.load(file_path, duration=3)\n",
        "  #   mfccs = librosa.feature.mfcc(y=signal, n_mfcc=20, sr=sr)\n",
        "  #   # mfcc_vector = get_mfccs_mean_vector(mfccs)\n",
        "  #   # mfcc_vector = np.append(mfcc_vector, speaker)\n",
        "  #   mfcc_vector = mfccs\n",
        "  #   vectors.append(mfcc_vector)\n",
        "  #   i += 1\n",
        "\n",
        "  # librosa.display.specshow(vectors[9], sr=sr)\n",
        "\n",
        "  # columns = [f'MFCC {i}' for i in range(1, 21)]\n",
        "  # columns.append('Speaker')\n",
        "  # df = pd.DataFrame(columns=columns)\n",
        "  speaker = directory_name\n",
        "  i = 0\n",
        "  for file_name in file_names:\n",
        "    i += 1\n",
        "    if file_name.split('.')[-1] != \"wav\":\n",
        "      continue\n",
        "    file_path = directory_path + file_name\n",
        "    signal, sr = librosa.load(file_path, duration=5)\n",
        "    mfccs = librosa.feature.mfcc(y=signal, n_mfcc=22, sr=sr)\n",
        "    # mfcc_vector = get_mfccs_mean_vector(mfccs)\n",
        "    # mfcc_vector = np.append(mfcc_vector, speaker)\n",
        "    mfcc_vector = mfccs\n",
        "    df = pd.DataFrame(mfcc_vector)\n",
        "    df.to_csv(f'{output_path}{speaker}_{i}.csv', index=False)\n",
        "  df = pd.read_csv(f'{output_path}{speaker}_{i}.csv')\n",
        "df"
      ]
    },
    {
      "cell_type": "code",
      "execution_count": 13,
      "metadata": {},
      "outputs": [
        {
          "ename": "SyntaxError",
          "evalue": "invalid syntax (4067800170.py, line 1)",
          "output_type": "error",
          "traceback": [
            "\u001b[0;36m  File \u001b[0;32m\"/tmp/ipykernel_470170/4067800170.py\"\u001b[0;36m, line \u001b[0;32m1\u001b[0m\n\u001b[0;31m    stop here\u001b[0m\n\u001b[0m         ^\u001b[0m\n\u001b[0;31mSyntaxError\u001b[0m\u001b[0;31m:\u001b[0m invalid syntax\n"
          ]
        }
      ],
      "source": [
        "stop here"
      ]
    },
    {
      "cell_type": "code",
      "execution_count": null,
      "metadata": {
        "colab": {
          "base_uri": "https://localhost:8080/"
        },
        "id": "RsebnvEFc2WM",
        "outputId": "9c24adbd-5a7f-46ee-a2ab-1c16a2b53d71"
      },
      "outputs": [
        {
          "data": {
            "text/plain": [
              "(22, 216)"
            ]
          },
          "execution_count": 7,
          "metadata": {},
          "output_type": "execute_result"
        }
      ],
      "source": [
        "mfccs.shape"
      ]
    },
    {
      "cell_type": "code",
      "execution_count": null,
      "metadata": {
        "colab": {
          "base_uri": "https://localhost:8080/",
          "height": 145
        },
        "id": "durveMaAIeTl",
        "outputId": "428c6712-d0cc-48ca-f1aa-efa09baa1cbf"
      },
      "outputs": [
        {
          "ename": "IndentationError",
          "evalue": "ignored",
          "output_type": "error",
          "traceback": [
            "\u001b[0;36m  File \u001b[0;32m\"<ipython-input-6-18e804f78b18>\"\u001b[0;36m, line \u001b[0;32m9\u001b[0m\n\u001b[0;31m    mfcc_vector = np.append(mfcc_vector, speaker)\u001b[0m\n\u001b[0m    ^\u001b[0m\n\u001b[0;31mIndentationError\u001b[0m\u001b[0;31m:\u001b[0m unexpected indent\n"
          ]
        }
      ],
      "source": [
        "# columns = [f'MFCC {i}' for i in range(1, 21)]\n",
        "# columns.append('Speaker')\n",
        "# df = pd.DataFrame(columns=columns)\n",
        "# for file_name in file_names:\n",
        "#   if file_name.split('.')[-1] != \"m4a\":\n",
        "#     continue\n",
        "#   file_path = directory_path + file_name\n",
        "#   signal, sr = librosa.load(file_path, duration=3)\n",
        "#   mfccs = librosa.feature.mfcc(y=signal, n_mfcc=20, sr=sr)\n",
        "#   mfcc_vector = get_mfccs_mean_vector(mfccs)\n",
        "#   mfcc_vector = np.append(mfcc_vector, speaker)\n",
        "#   df = df.append(pd.Series(mfcc_vector, index=df.columns), ignore_index=True)\n",
        "# df.to_csv(f'{output_path}{speaker}_3sec.csv', index=False)\n",
        "# df = pd.read_csv(f'{output_path}{speaker}.csv')\n",
        "# df"
      ]
    },
    {
      "cell_type": "code",
      "execution_count": null,
      "metadata": {
        "id": "KaVHWzqMg99F"
      },
      "outputs": [],
      "source": [
        "directories = ['Sherif', 'Omar', 'Renad', 'Reem', 'Youssef']"
      ]
    },
    {
      "cell_type": "code",
      "execution_count": null,
      "metadata": {
        "colab": {
          "base_uri": "https://localhost:8080/"
        },
        "id": "b6llL-HdJb0y",
        "outputId": "2df8dd09-cb38-4cff-bb91-c384d663b374"
      },
      "outputs": [
        {
          "name": "stdout",
          "output_type": "stream",
          "text": [
            "Accuracy: 0.86667\n"
          ]
        }
      ],
      "source": [
        "import os\n",
        "import pandas as pd\n",
        "from sklearn.model_selection import train_test_split\n",
        "from sklearn.svm import SVC\n",
        "from sklearn.metrics import accuracy_score\n",
        "\n",
        "# Set the path to the directory containing your dataset\n",
        "dataset_directory = \"/content/drive/MyDrive/thesis_models/mini_dataset/\"\n",
        "\n",
        "# Lists to store features and labels\n",
        "X_list = []\n",
        "y_list = []\n",
        "\n",
        "# Iterate through each directory in the dataset\n",
        "for directory in os.listdir(dataset_directory):\n",
        "    if directory not in directories:\n",
        "      continue\n",
        "    if os.path.isdir(os.path.join(dataset_directory, directory)):\n",
        "        # Get the path to the Excel file in the current directory\n",
        "        excel_file_path = os.path.join(dataset_directory, directory, f\"{directory}.csv\")\n",
        "\n",
        "        # Read the Excel file\n",
        "        df = pd.read_csv(excel_file_path)\n",
        "\n",
        "        # Assuming the last column is the target/label column\n",
        "        X = df.iloc[:, :-1].values  # Features\n",
        "        y = df.iloc[:, -1].values   # Labels\n",
        "\n",
        "        # Append the features and labels to the lists\n",
        "        X_list.append(X)\n",
        "        y_list.append(y)\n",
        "\n",
        "# Concatenate the lists to create the final feature and label arrays\n",
        "X = np.concatenate(X_list, axis=0)\n",
        "y = np.concatenate(y_list, axis=0)\n",
        "# print(X)\n",
        "# Split the data into training and testing sets\n",
        "X_train, X_test, y_train, y_test = train_test_split(X, y, train_size=0.7) #, test_size=0.1, random_state=42\n",
        "\n",
        "# Initialize the SVM model\n",
        "svm_model = SVC(kernel='linear', C=1.0)\n",
        "\n",
        "# Train the SVM model\n",
        "svm_model.fit(X_train, y_train)\n",
        "\n",
        "# Make predictions on the test set\n",
        "y_pred = svm_model.predict(X_test)\n",
        "\n",
        "# Calculate accuracy\n",
        "accuracy = accuracy_score(y_test, y_pred)\n",
        "print(f\"Accuracy: {accuracy:.5f}\")\n"
      ]
    },
    {
      "cell_type": "code",
      "execution_count": null,
      "metadata": {
        "colab": {
          "base_uri": "https://localhost:8080/"
        },
        "id": "PEO-LBaCQFCS",
        "outputId": "1b351f3d-90a1-47a0-92d0-d0f225d14cee"
      },
      "outputs": [
        {
          "name": "stdout",
          "output_type": "stream",
          "text": [
            "Accuracy: 0.86667\n"
          ]
        }
      ],
      "source": [
        "import os\n",
        "import pandas as pd\n",
        "import numpy as np\n",
        "from sklearn.model_selection import train_test_split\n",
        "from xgboost import XGBClassifier\n",
        "from sklearn.preprocessing import LabelEncoder\n",
        "from sklearn.metrics import accuracy_score\n",
        "\n",
        "# Set the path to the directory containing your dataset\n",
        "dataset_directory = \"/content/drive/MyDrive/thesis_models/mini_dataset/\"\n",
        "\n",
        "# Lists to store features and labels\n",
        "X_list = []\n",
        "y_list = []\n",
        "\n",
        "# Iterate through each directory in the dataset\n",
        "for directory in os.listdir(dataset_directory):\n",
        "    if directory not in directories:\n",
        "      continue\n",
        "    if os.path.isdir(os.path.join(dataset_directory, directory)):\n",
        "        # Get the path to the Excel file in the current directory\n",
        "        excel_file_path = os.path.join(dataset_directory, directory, f\"{directory}.csv\")\n",
        "\n",
        "        # Read the Excel file\n",
        "        df = pd.read_csv(excel_file_path)\n",
        "\n",
        "        # Assuming the last column is the target/label column\n",
        "        X = df.iloc[:, :-1].values  # Features\n",
        "        y = df.iloc[:, -1].values   # Labels\n",
        "\n",
        "        # Append the features and labels to the lists\n",
        "        X_list.append(X)\n",
        "        y_list.append(y)\n",
        "\n",
        "# Concatenate the lists to create the final feature and label arrays\n",
        "X = np.concatenate(X_list, axis=0)\n",
        "\n",
        "# Use LabelEncoder to convert string labels to integers\n",
        "label_encoder = LabelEncoder()\n",
        "y = label_encoder.fit_transform(np.concatenate(y_list, axis=0))\n",
        "\n",
        "# Split the data into training and testing sets\n",
        "X_train, X_test, y_train, y_test = train_test_split(X, y, train_size=0.7) #, test_size=0.2, random_state=42\n",
        "\n",
        "# Initialize the XGBoost model\n",
        "xgb_model = XGBClassifier()\n",
        "\n",
        "# Train the XGBoost model\n",
        "xgb_model.fit(X_train, y_train)\n",
        "\n",
        "# Make predictions on the test set\n",
        "y_pred = xgb_model.predict(X_test)\n",
        "\n",
        "# Calculate accuracy\n",
        "accuracy = accuracy_score(y_test, y_pred)\n",
        "print(f\"Accuracy: {accuracy:.5f}\")\n"
      ]
    },
    {
      "cell_type": "code",
      "execution_count": null,
      "metadata": {
        "colab": {
          "base_uri": "https://localhost:8080/"
        },
        "id": "3JDtkF60_gdm",
        "outputId": "64ae6690-cc76-41ce-8070-f3a11135df42"
      },
      "outputs": [
        {
          "name": "stdout",
          "output_type": "stream",
          "text": [
            "Accuracy: 0.86667\n",
            "Predicted Class Names: ['Sherif', 'Renad', 'Reem', 'Renad', 'Renad', 'Youssef', 'Reem', 'Sherif', 'Omar', 'Renad', 'Renad', 'Omar', 'Youssef', 'Sherif', 'Sherif']\n"
          ]
        }
      ],
      "source": [
        "import os\n",
        "import pandas as pd\n",
        "import numpy as np\n",
        "from sklearn.model_selection import train_test_split\n",
        "from xgboost import XGBClassifier\n",
        "from sklearn.preprocessing import LabelEncoder\n",
        "from sklearn.metrics import accuracy_score\n",
        "\n",
        "# Set the path to the directory containing your dataset\n",
        "dataset_directory = \"/content/drive/MyDrive/thesis_models/mini_dataset/\"\n",
        "\n",
        "# Lists to store features and labels\n",
        "X_list = []\n",
        "y_list = []\n",
        "\n",
        "# Dictionary to store the mapping from numerical labels to class names\n",
        "class_mapping = {}\n",
        "\n",
        "# Iterate through each directory in the dataset\n",
        "for directory in os.listdir(dataset_directory):\n",
        "    if directory not in directories:\n",
        "        continue\n",
        "    if os.path.isdir(os.path.join(dataset_directory, directory)):\n",
        "        # Get the path to the Excel file in the current directory\n",
        "        excel_file_path = os.path.join(dataset_directory, directory, f\"{directory}.csv\")\n",
        "\n",
        "        # Read the Excel file\n",
        "        df = pd.read_csv(excel_file_path)\n",
        "\n",
        "        # Assuming the last column is the target/label column\n",
        "        X = df.iloc[:, :-1].values  # Features\n",
        "        y = df.iloc[:, -1].values   # Labels\n",
        "\n",
        "        # Append the features and labels to the lists\n",
        "        X_list.append(X)\n",
        "        y_list.append(y)\n",
        "\n",
        "        # Update the class mapping without using LabelEncoder\n",
        "        class_mapping.update({label: class_name for label, class_name in zip(y, y)})\n",
        "\n",
        "# Concatenate the lists to create the final feature and label arrays\n",
        "X = np.concatenate(X_list, axis=0)\n",
        "y_all = np.concatenate(y_list, axis=0)\n",
        "\n",
        "# Use LabelEncoder to convert string labels to integers for training\n",
        "label_encoder = LabelEncoder()\n",
        "y_encoded = label_encoder.fit_transform(y_all)\n",
        "\n",
        "# Split the data into training and testing sets\n",
        "X_train, X_test, y_train_encoded, y_test_encoded = train_test_split(X, y_encoded, train_size=0.7)\n",
        "\n",
        "# Initialize the XGBoost model\n",
        "xgb_model = XGBClassifier()\n",
        "\n",
        "# Train the XGBoost model\n",
        "xgb_model.fit(X_train, y_train_encoded)\n",
        "\n",
        "# Make predictions on the test set\n",
        "y_pred_encoded = xgb_model.predict(X_test)\n",
        "\n",
        "# Map the predicted numerical labels back to class names using the class_mapping dictionary\n",
        "predicted_class_names = [class_mapping[label] for label in label_encoder.inverse_transform(y_pred_encoded)]\n",
        "\n",
        "# Calculate accuracy\n",
        "accuracy = accuracy_score(label_encoder.inverse_transform(y_test_encoded), label_encoder.inverse_transform(y_pred_encoded))\n",
        "print(f\"Accuracy: {accuracy:.5f}\")\n",
        "\n",
        "# Display the predicted class names\n",
        "print(\"Predicted Class Names:\", predicted_class_names)\n"
      ]
    },
    {
      "cell_type": "code",
      "execution_count": null,
      "metadata": {
        "colab": {
          "base_uri": "https://localhost:8080/"
        },
        "id": "K0WjqC87NG55",
        "outputId": "ad2ce90c-817d-4ba6-d594-e64cb910a94a"
      },
      "outputs": [
        {
          "name": "stdout",
          "output_type": "stream",
          "text": [
            "Sherif Sherif\n",
            "Youssef Youssef\n",
            "Omar Omar\n",
            "Renad Renad\n",
            "Reem Reem\n"
          ]
        }
      ],
      "source": [
        "for key, value in class_mapping.items():\n",
        "  print(key, value)"
      ]
    },
    {
      "cell_type": "code",
      "execution_count": null,
      "metadata": {
        "colab": {
          "base_uri": "https://localhost:8080/"
        },
        "id": "z5_eK00W_4Y3",
        "outputId": "d518922f-8f86-4425-b67f-89630cd4804c"
      },
      "outputs": [
        {
          "data": {
            "text/plain": [
              "array([3, 2, 1, 2, 2, 4, 1, 3, 0, 2, 2, 0, 4, 3, 3])"
            ]
          },
          "execution_count": 178,
          "metadata": {},
          "output_type": "execute_result"
        }
      ],
      "source": [
        "y_pred_encoded"
      ]
    },
    {
      "cell_type": "code",
      "execution_count": null,
      "metadata": {
        "colab": {
          "base_uri": "https://localhost:8080/"
        },
        "id": "10PXhF2xmLZ4",
        "outputId": "d24fe9e1-e3c0-4121-9380-b210e41316e5"
      },
      "outputs": [
        {
          "data": {
            "text/plain": [
              "array([3, 2, 1, 1, 2, 4, 1, 3, 0, 2, 2, 0, 1, 3, 3])"
            ]
          },
          "execution_count": 181,
          "metadata": {},
          "output_type": "execute_result"
        }
      ],
      "source": [
        "y_test_encoded"
      ]
    },
    {
      "cell_type": "code",
      "execution_count": null,
      "metadata": {
        "id": "VQm5AA_0AoWK"
      },
      "outputs": [],
      "source": [
        "test_sample = [[-340.78452,136.54994,6.28157,22.479836,5.836398,3.624558,-6.715408,-3.530711,-5.688966,1.43254,-1.8756343,2.1192057,-0.36051726,-4.1750746,-1.2043107,1.572028,-4.466659,-5.4007607,2.8591537,-4.360394]]"
      ]
    },
    {
      "cell_type": "code",
      "execution_count": null,
      "metadata": {
        "colab": {
          "base_uri": "https://localhost:8080/"
        },
        "id": "QAZVvxbDAr18",
        "outputId": "c8b148f7-0bf9-4f81-c8d8-4ce24f6c2558"
      },
      "outputs": [
        {
          "data": {
            "text/plain": [
              "['Omar']"
            ]
          },
          "execution_count": 201,
          "metadata": {},
          "output_type": "execute_result"
        }
      ],
      "source": [
        "y_pred_sample_encoded = xgb_model.predict(test_sample)\n",
        "speaker = [class_mapping[label] for label in label_encoder.inverse_transform(y_pred_sample_encoded)]\n",
        "speaker"
      ]
    },
    {
      "cell_type": "code",
      "execution_count": null,
      "metadata": {
        "id": "fPH8bd8XArrA"
      },
      "outputs": [],
      "source": []
    },
    {
      "cell_type": "code",
      "execution_count": null,
      "metadata": {
        "id": "jmjpb1FdAqM3"
      },
      "outputs": [],
      "source": []
    },
    {
      "cell_type": "code",
      "execution_count": null,
      "metadata": {
        "id": "GV8ZvtbvocT0"
      },
      "outputs": [],
      "source": []
    },
    {
      "cell_type": "code",
      "execution_count": null,
      "metadata": {
        "id": "CQwUxT2ooTsc"
      },
      "outputs": [],
      "source": [
        "def simple_cnn(num_classes):\n",
        "  model = tf.keras.models.Sequential([\n",
        "      tf.keras.layers.Conv2D(32, (3, 3), activation='relu', input_shape=(X.shape[1], 1)),\n",
        "      tf.keras.layers.MaxPooling2D(2, 2),\n",
        "      tf.keras.layers.Conv2D(64, (3, 3), activation='relu'),\n",
        "      tf.keras.layers.MaxPooling2D(2, 2),\n",
        "      tf.keras.layers.Conv2D(128, (3, 3), activation='relu'),\n",
        "      tf.keras.layers.MaxPooling2D(2, 2),\n",
        "      tf.keras.layers.Flatten(),\n",
        "      tf.keras.layers.Dense(128, activation='relu'),\n",
        "      tf.keras.layers.Dropout(0.5),\n",
        "      tf.keras.layers.Dense(num_classes, activation='softmax')  # Assuming three classes\n",
        "  ])\n",
        "  model.summary()\n",
        "  return model"
      ]
    },
    {
      "cell_type": "code",
      "execution_count": null,
      "metadata": {
        "id": "fWEd_Ag9rJZH"
      },
      "outputs": [],
      "source": [
        "import tensorflow as tf\n",
        "from tensorflow.keras.layers import Dense, BatchNormalization, Dropout\n",
        "num_features = 20"
      ]
    },
    {
      "cell_type": "code",
      "execution_count": null,
      "metadata": {
        "id": "hPWNvojGvd_1"
      },
      "outputs": [],
      "source": [
        "X_train, X_test, y_train, y_test = train_test_split(X, y, train_size=0.8) #, test_size=0.2, random_state=42"
      ]
    },
    {
      "cell_type": "code",
      "execution_count": null,
      "metadata": {
        "colab": {
          "base_uri": "https://localhost:8080/",
          "height": 381
        },
        "id": "IzMKBgeUoinT",
        "outputId": "b679d6ca-5ce6-40c8-e784-bc0066ce21d7"
      },
      "outputs": [
        {
          "ename": "ValueError",
          "evalue": "ignored",
          "output_type": "error",
          "traceback": [
            "\u001b[0;31m---------------------------------------------------------------------------\u001b[0m",
            "\u001b[0;31mValueError\u001b[0m                                Traceback (most recent call last)",
            "\u001b[0;32m<ipython-input-18-08453d1a16d7>\u001b[0m in \u001b[0;36m<cell line: 17>\u001b[0;34m()\u001b[0m\n\u001b[1;32m     15\u001b[0m \u001b[0;34m\u001b[0m\u001b[0m\n\u001b[1;32m     16\u001b[0m \u001b[0;31m# Convert labels to one-hot encoding\u001b[0m\u001b[0;34m\u001b[0m\u001b[0;34m\u001b[0m\u001b[0m\n\u001b[0;32m---> 17\u001b[0;31m \u001b[0my_train_one_hot\u001b[0m \u001b[0;34m=\u001b[0m \u001b[0mtf\u001b[0m\u001b[0;34m.\u001b[0m\u001b[0mkeras\u001b[0m\u001b[0;34m.\u001b[0m\u001b[0mutils\u001b[0m\u001b[0;34m.\u001b[0m\u001b[0mto_categorical\u001b[0m\u001b[0;34m(\u001b[0m\u001b[0my_train\u001b[0m\u001b[0;34m,\u001b[0m \u001b[0mnum_classes\u001b[0m\u001b[0;34m=\u001b[0m\u001b[0;36m5\u001b[0m\u001b[0;34m)\u001b[0m\u001b[0;34m\u001b[0m\u001b[0;34m\u001b[0m\u001b[0m\n\u001b[0m\u001b[1;32m     18\u001b[0m \u001b[0my_test_one_hot\u001b[0m \u001b[0;34m=\u001b[0m \u001b[0mtf\u001b[0m\u001b[0;34m.\u001b[0m\u001b[0mkeras\u001b[0m\u001b[0;34m.\u001b[0m\u001b[0mutils\u001b[0m\u001b[0;34m.\u001b[0m\u001b[0mto_categorical\u001b[0m\u001b[0;34m(\u001b[0m\u001b[0my_test\u001b[0m\u001b[0;34m,\u001b[0m \u001b[0mnum_classes\u001b[0m\u001b[0;34m=\u001b[0m\u001b[0;36m5\u001b[0m\u001b[0;34m)\u001b[0m\u001b[0;34m\u001b[0m\u001b[0;34m\u001b[0m\u001b[0m\n\u001b[1;32m     19\u001b[0m \u001b[0;34m\u001b[0m\u001b[0m\n",
            "\u001b[0;32m/usr/local/lib/python3.10/dist-packages/keras/src/utils/np_utils.py\u001b[0m in \u001b[0;36mto_categorical\u001b[0;34m(y, num_classes, dtype)\u001b[0m\n\u001b[1;32m     60\u001b[0m     \u001b[0;34m[\u001b[0m\u001b[0;36m0.\u001b[0m \u001b[0;36m0.\u001b[0m \u001b[0;36m0.\u001b[0m \u001b[0;36m0.\u001b[0m\u001b[0;34m]\u001b[0m\u001b[0;34m\u001b[0m\u001b[0;34m\u001b[0m\u001b[0m\n\u001b[1;32m     61\u001b[0m     \"\"\"\n\u001b[0;32m---> 62\u001b[0;31m     \u001b[0my\u001b[0m \u001b[0;34m=\u001b[0m \u001b[0mnp\u001b[0m\u001b[0;34m.\u001b[0m\u001b[0marray\u001b[0m\u001b[0;34m(\u001b[0m\u001b[0my\u001b[0m\u001b[0;34m,\u001b[0m \u001b[0mdtype\u001b[0m\u001b[0;34m=\u001b[0m\u001b[0;34m\"int\"\u001b[0m\u001b[0;34m)\u001b[0m\u001b[0;34m\u001b[0m\u001b[0;34m\u001b[0m\u001b[0m\n\u001b[0m\u001b[1;32m     63\u001b[0m     \u001b[0minput_shape\u001b[0m \u001b[0;34m=\u001b[0m \u001b[0my\u001b[0m\u001b[0;34m.\u001b[0m\u001b[0mshape\u001b[0m\u001b[0;34m\u001b[0m\u001b[0;34m\u001b[0m\u001b[0m\n\u001b[1;32m     64\u001b[0m \u001b[0;34m\u001b[0m\u001b[0m\n",
            "\u001b[0;31mValueError\u001b[0m: invalid literal for int() with base 10: 'Renad'"
          ]
        }
      ],
      "source": [
        "model = tf.keras.models.Sequential()\n",
        "model.add(Dense(128, input_dim=num_features, activation='relu'))\n",
        "model.add(BatchNormalization())\n",
        "model.add(Dropout(0.5))\n",
        "model.add(Dense(64, activation='relu'))\n",
        "model.add(BatchNormalization())\n",
        "model.add(Dropout(0.5))\n",
        "model.add(Dense(32, activation='relu'))\n",
        "model.add(BatchNormalization())\n",
        "model.add(Dropout(0.3))\n",
        "model.add(Dense(5, activation='softmax'))  # softmax for 5 classes\n",
        "\n",
        "# Compile the model\n",
        "model.compile(optimizer='adam', loss='categorical_crossentropy', metrics=['accuracy'])\n",
        "\n",
        "# Convert labels to one-hot encoding\n",
        "y_train_one_hot = tf.keras.utils.to_categorical(y_train, num_classes=5)\n",
        "y_test_one_hot = tf.keras.utils.to_categorical(y_test, num_classes=5)\n",
        "\n",
        "\n",
        "# Train the model\n",
        "model.fit(X_train, y_train_one_hot, epochs=1000, batch_size=64) #, validation_split=0.2\n",
        "\n",
        "# Evaluate the model on the test set\n",
        "loss, accuracy = model.evaluate(X_test, y_test_one_hot)\n",
        "print(f\"Test Loss: {loss}, Test Accuracy: {accuracy}\")"
      ]
    },
    {
      "cell_type": "code",
      "execution_count": null,
      "metadata": {
        "colab": {
          "base_uri": "https://localhost:8080/"
        },
        "id": "-zkds5-syMMq",
        "outputId": "0352d067-476b-4b3b-edaa-9370add15ed7"
      },
      "outputs": [
        {
          "data": {
            "text/plain": [
              "array(['Renad', 'Reem', 'Omar', 'Renad', 'Omar', 'Reem', 'Omar', 'Sherif',\n",
              "       'Sherif', 'Sherif', 'Omar', 'Renad', 'Reem', 'Omar', 'Renad',\n",
              "       'Sherif', 'Reem', 'Omar', 'Omar', 'Reem', 'Renad', 'Youssef',\n",
              "       'Sherif', 'Reem', 'Youssef', 'Youssef', 'Renad', 'Renad', 'Reem',\n",
              "       'Youssef', 'Youssef', 'Youssef', 'Omar', 'Omar', 'Omar', 'Sherif',\n",
              "       'Youssef', 'Reem', 'Sherif', 'Sherif'], dtype=object)"
            ]
          },
          "execution_count": 12,
          "metadata": {},
          "output_type": "execute_result"
        }
      ],
      "source": [
        "y_train"
      ]
    },
    {
      "cell_type": "code",
      "execution_count": null,
      "metadata": {
        "colab": {
          "base_uri": "https://localhost:8080/"
        },
        "id": "lQ5fUJf9oq5F",
        "outputId": "2ffd9a00-4f98-4398-f8b4-7e433e7968d3"
      },
      "outputs": [
        {
          "data": {
            "text/plain": [
              "array([0, 0, 3, 4, 0, 0, 2, 1, 1, 1])"
            ]
          },
          "execution_count": 171,
          "metadata": {},
          "output_type": "execute_result"
        }
      ],
      "source": [
        "y_test"
      ]
    },
    {
      "cell_type": "code",
      "execution_count": null,
      "metadata": {
        "colab": {
          "base_uri": "https://localhost:8080/"
        },
        "id": "aC9KJUa7qJN5",
        "outputId": "35a2de95-e9bb-4aaa-cb43-d4d7f8659ab3"
      },
      "outputs": [
        {
          "name": "stdout",
          "output_type": "stream",
          "text": [
            "1/1 [==============================] - 0s 138ms/step\n"
          ]
        },
        {
          "data": {
            "text/plain": [
              "array([0, 0, 3, 4, 1, 0, 2, 1, 1, 1])"
            ]
          },
          "execution_count": 172,
          "metadata": {},
          "output_type": "execute_result"
        }
      ],
      "source": [
        "preds = model.predict(X_test)\n",
        "predicted_classes = np.argmax(preds, axis=1)\n",
        "predicted_classes"
      ]
    },
    {
      "cell_type": "code",
      "execution_count": null,
      "metadata": {
        "colab": {
          "base_uri": "https://localhost:8080/",
          "height": 36
        },
        "id": "7fYw2UIk-EuH",
        "outputId": "b825db71-64fd-45df-dcc4-866e063998a0"
      },
      "outputs": [
        {
          "data": {
            "application/vnd.google.colaboratory.intrinsic+json": {
              "type": "string"
            },
            "text/plain": [
              "'Sherif'"
            ]
          },
          "execution_count": 175,
          "metadata": {},
          "output_type": "execute_result"
        }
      ],
      "source": [
        "map_names = {\n",
        "    1: 'Sherif',\n",
        "    2: 'Reem',\n",
        "    3: 'Renad',\n",
        "    4: 'Omar',\n",
        "    5: 'Youssef'\n",
        "}\n",
        "predicted_class = map_names[1]\n",
        "predicted_class"
      ]
    },
    {
      "cell_type": "code",
      "execution_count": null,
      "metadata": {
        "colab": {
          "base_uri": "https://localhost:8080/"
        },
        "id": "D1Ua_Zvhpy7W",
        "outputId": "5e128b6c-8b89-4ec9-95ac-29d618ef08f6"
      },
      "outputs": [
        {
          "name": "stdout",
          "output_type": "stream",
          "text": [
            "Accuracy: 0.80000\n"
          ]
        }
      ],
      "source": [
        "xgb_model = XGBClassifier()\n",
        "\n",
        "# Train the XGBoost model\n",
        "xgb_model.fit(X_train, y_train)\n",
        "\n",
        "# Make predictions on the test set\n",
        "y_pred = xgb_model.predict(X_test)\n",
        "\n",
        "# Calculate accuracy\n",
        "accuracy = accuracy_score(y_test, y_pred)\n",
        "print(f\"Accuracy: {accuracy:.5f}\")"
      ]
    }
  ],
  "metadata": {
    "colab": {
      "provenance": []
    },
    "kernelspec": {
      "display_name": "Python 3",
      "name": "python3"
    },
    "language_info": {
      "codemirror_mode": {
        "name": "ipython",
        "version": 3
      },
      "file_extension": ".py",
      "mimetype": "text/x-python",
      "name": "python",
      "nbconvert_exporter": "python",
      "pygments_lexer": "ipython3",
      "version": "3.10.12"
    }
  },
  "nbformat": 4,
  "nbformat_minor": 0
}
