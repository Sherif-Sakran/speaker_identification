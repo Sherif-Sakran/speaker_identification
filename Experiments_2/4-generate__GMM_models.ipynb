{
 "cells": [
  {
   "cell_type": "code",
   "execution_count": 1,
   "metadata": {},
   "outputs": [],
   "source": [
    "import os\n",
    "import numpy as np\n",
    "import pandas as pd\n",
    "import pickle\n",
    "from sklearn.mixture import GaussianMixture as GMM"
   ]
  },
  {
   "cell_type": "code",
   "execution_count": 2,
   "metadata": {},
   "outputs": [],
   "source": [
    "# Directories\n",
    "train_dir = \"../Datasets_mfcc_22/Environment 1/Training\"\n",
    "model_save_dir = \"../GMM_speaker_models\"\n",
    "os.makedirs(model_save_dir, exist_ok=True)\n"
   ]
  },
  {
   "cell_type": "code",
   "execution_count": 3,
   "metadata": {},
   "outputs": [],
   "source": [
    "# Training the GMM models\n",
    "def train_gmm_models(train_dir, model_save_dir):\n",
    "    for speaker_folder in os.listdir(train_dir):\n",
    "        speaker_path = os.path.join(train_dir, speaker_folder)\n",
    "        if not os.path.isdir(speaker_path):\n",
    "            continue\n",
    "\n",
    "        print(f\"Training GMM for speaker: {speaker_folder}\")\n",
    "        \n",
    "        # Collect all speaker data (CSV files)\n",
    "        mfcc_data = []\n",
    "        for file in os.listdir(speaker_path):\n",
    "            if file.endswith('.csv'):\n",
    "                file_path = os.path.join(speaker_path, file)\n",
    "                data = pd.read_csv(file_path, header=None).values\n",
    "                mfcc_data.append(data)\n",
    "\n",
    "        # Combine all data\n",
    "        mfcc_data = np.vstack(mfcc_data)\n",
    "\n",
    "        # Train GMM\n",
    "        gmm = GMM(n_components=16, covariance_type='diag', max_iter=200, random_state=42)\n",
    "        gmm.fit(mfcc_data)\n",
    "\n",
    "        # Save the model\n",
    "        pickle_file = f\"{speaker_folder}.gmm\"\n",
    "        pickle_path = os.path.join(model_save_dir, pickle_file)\n",
    "        with open(pickle_path, 'wb') as f:\n",
    "            pickle.dump(gmm, f)\n",
    "        print(f\"Model saved for {speaker_folder}: {pickle_path}\")"
   ]
  },
  {
   "cell_type": "code",
   "execution_count": 4,
   "metadata": {},
   "outputs": [
    {
     "name": "stdout",
     "output_type": "stream",
     "text": [
      "Training GMM for speaker: Abdelrahman\n",
      "Model saved for Abdelrahman: ../GMM_speaker_models\\Abdelrahman.gmm\n",
      "Training GMM for speaker: Omar\n",
      "Model saved for Omar: ../GMM_speaker_models\\Omar.gmm\n",
      "Training GMM for speaker: Reem\n",
      "Model saved for Reem: ../GMM_speaker_models\\Reem.gmm\n",
      "Training GMM for speaker: Renad\n",
      "Model saved for Renad: ../GMM_speaker_models\\Renad.gmm\n",
      "Training GMM for speaker: Sherif\n",
      "Model saved for Sherif: ../GMM_speaker_models\\Sherif.gmm\n",
      "Training GMM for speaker: Youssef\n",
      "Model saved for Youssef: ../GMM_speaker_models\\Youssef.gmm\n"
     ]
    }
   ],
   "source": [
    "# Train the models\n",
    "train_gmm_models(train_dir, model_save_dir)"
   ]
  },
  {
   "cell_type": "code",
   "execution_count": 11,
   "metadata": {},
   "outputs": [],
   "source": [
    "# Directories for testing\n",
    "test_dirs = [\n",
    "    \"../Datasets_mfcc_22/Environment 1/Testing\",\n",
    "    \"../Datasets_mfcc_22/Environment 2\"\n",
    "]\n"
   ]
  },
  {
   "cell_type": "code",
   "execution_count": 12,
   "metadata": {},
   "outputs": [],
   "source": [
    "# Function to load GMM models\n",
    "def load_gmm_models(model_save_dir):\n",
    "    models = {}\n",
    "    for model_file in os.listdir(model_save_dir):\n",
    "        if model_file.endswith(\".gmm\"):\n",
    "            model_path = os.path.join(model_save_dir, model_file)\n",
    "            speaker_name = model_file.replace(\".gmm\", \"\")\n",
    "            with open(model_path, 'rb') as f:\n",
    "                models[speaker_name] = pickle.load(f)\n",
    "    return models\n",
    "\n",
    "# Evaluate models on testing data\n",
    "from sklearn.metrics import accuracy_score, precision_recall_fscore_support\n",
    "\n",
    "# Function to evaluate GMM models\n",
    "def evaluate_gmm_models(gmm_models, test_dir):\n",
    "    results = []\n",
    "    y_true = []\n",
    "    y_pred = []\n",
    "    \n",
    "    # Iterate through all CSV files in the test directory\n",
    "    for folder in os.listdir(test_dir):\n",
    "        folder_path = os.path.join(test_dir, folder)\n",
    "        if os.path.isdir(folder_path):  # Ensure we're only looking at folders\n",
    "            for file in os.listdir(folder_path):\n",
    "                if file.endswith(\".csv\"):  # Only consider CSV files\n",
    "                    file_path = os.path.join(folder_path, file)\n",
    "                    data = pd.read_csv(file_path).values  # Read the CSV data\n",
    "                    \n",
    "                    # Extract the actual speaker's name from the folder name\n",
    "                    actual_speaker = folder\n",
    "                    \n",
    "                    # Compute likelihoods for each GMM model\n",
    "                    scores = []\n",
    "                    for speaker, model in gmm_models.items():\n",
    "                        score = model.score(data)\n",
    "                        scores.append(score)\n",
    "                    \n",
    "                    # Predict the speaker with the highest score\n",
    "                    predicted_speaker = max(zip(gmm_models.keys(), scores), key=lambda x: x[1])[0]\n",
    "                    \n",
    "                    # Append results for each file\n",
    "                    results.append((file, actual_speaker, predicted_speaker))\n",
    "                    y_true.append(actual_speaker)\n",
    "                    y_pred.append(predicted_speaker)\n",
    "    \n",
    "    return results, y_true, y_pred\n",
    "\n"
   ]
  },
  {
   "cell_type": "code",
   "execution_count": 13,
   "metadata": {},
   "outputs": [
    {
     "data": {
      "text/plain": [
       "{'Abdelrahman': GaussianMixture(covariance_type='diag', max_iter=200, n_components=16,\n",
       "                 random_state=42),\n",
       " 'Omar': GaussianMixture(covariance_type='diag', max_iter=200, n_components=16,\n",
       "                 random_state=42),\n",
       " 'Reem': GaussianMixture(covariance_type='diag', max_iter=200, n_components=16,\n",
       "                 random_state=42),\n",
       " 'Renad': GaussianMixture(covariance_type='diag', max_iter=200, n_components=16,\n",
       "                 random_state=42),\n",
       " 'Sherif': GaussianMixture(covariance_type='diag', max_iter=200, n_components=16,\n",
       "                 random_state=42),\n",
       " 'Youssef': GaussianMixture(covariance_type='diag', max_iter=200, n_components=16,\n",
       "                 random_state=42)}"
      ]
     },
     "execution_count": 13,
     "metadata": {},
     "output_type": "execute_result"
    }
   ],
   "source": [
    "# Load models\n",
    "gmm_models = load_gmm_models(model_save_dir)\n",
    "gmm_models"
   ]
  },
  {
   "cell_type": "code",
   "execution_count": 15,
   "metadata": {},
   "outputs": [
    {
     "name": "stdout",
     "output_type": "stream",
     "text": [
      "\n",
      "Evaluating models on: ../Datasets_mfcc_22/Environment 1/Testing\n",
      "Accuracy: 1.0000\n",
      "Precision (weighted): 1.0000\n",
      "Recall (weighted): 1.0000\n",
      "F1 Score (weighted): 1.0000\n",
      "Evaluation results saved to: gmm_evaluation_results_Testing.csv\n",
      "\n",
      "Evaluating models on: ../Datasets_mfcc_22/Environment 2\n",
      "Accuracy: 0.3125\n",
      "Precision (weighted): 0.2816\n",
      "Recall (weighted): 0.3125\n",
      "F1 Score (weighted): 0.2831\n",
      "Evaluation results saved to: gmm_evaluation_results_Environment 2.csv\n"
     ]
    }
   ],
   "source": [
    "for test_dir in test_dirs:\n",
    "    print(f\"\\nEvaluating models on: {test_dir}\")\n",
    "    \n",
    "    # Evaluate models and get results, true labels, and predicted labels\n",
    "    results, y_true, y_pred = evaluate_gmm_models(gmm_models, test_dir)\n",
    "    \n",
    "    # Print file-level evaluation results\n",
    "    # for file, actual_speaker, predicted_speaker in results:\n",
    "    #     print(f\"File: {file}, Actual: {actual_speaker}, Predicted: {predicted_speaker}\")\n",
    "    \n",
    "    # Calculate accuracy and other metrics\n",
    "    accuracy = accuracy_score(y_true, y_pred)\n",
    "    precision, recall, f1, _ = precision_recall_fscore_support(y_true, y_pred, average='weighted')  # Weighted average for multi-class\n",
    "    print(f\"Accuracy: {accuracy:.4f}\")\n",
    "    print(f\"Precision (weighted): {precision:.4f}\")\n",
    "    print(f\"Recall (weighted): {recall:.4f}\")\n",
    "    print(f\"F1 Score (weighted): {f1:.4f}\")\n",
    "    \n",
    "    # Optionally, save the results in a CSV file\n",
    "    results_df = pd.DataFrame(results, columns=[\"File\", \"Actual\", \"Predicted\"])\n",
    "    result_file = f\"gmm_evaluation_results_{test_dir.split('/')[-1]}.csv\"\n",
    "    results_df.to_csv(result_file, index=False)\n",
    "    print(f\"Evaluation results saved to: {result_file}\")"
   ]
  },
  {
   "cell_type": "code",
   "execution_count": null,
   "metadata": {},
   "outputs": [],
   "source": []
  }
 ],
 "metadata": {
  "kernelspec": {
   "display_name": "Python 3",
   "language": "python",
   "name": "python3"
  },
  "language_info": {
   "codemirror_mode": {
    "name": "ipython",
    "version": 3
   },
   "file_extension": ".py",
   "mimetype": "text/x-python",
   "name": "python",
   "nbconvert_exporter": "python",
   "pygments_lexer": "ipython3",
   "version": "3.11.9"
  }
 },
 "nbformat": 4,
 "nbformat_minor": 2
}
